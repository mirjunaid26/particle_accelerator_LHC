{
 "cells": [
  {
   "cell_type": "markdown",
   "id": "29939162",
   "metadata": {},
   "source": [
    "# Supervised Machine Learning Solution"
   ]
  },
  {
   "cell_type": "code",
   "execution_count": 33,
   "id": "7f5906f5",
   "metadata": {},
   "outputs": [],
   "source": [
    "\"\"\"\n",
    "Importing all the basic libraries\n",
    "\"\"\"\n",
    "\n",
    "import os \n",
    "import warnings\n",
    "import numpy as np\n",
    "import pandas as pd\n",
    "from tqdm.notebook import tqdm\n",
    "import matplotlib.pyplot as plt\n",
    "from math import sqrt\n"
   ]
  },
  {
   "cell_type": "code",
   "execution_count": 19,
   "id": "59fc1b7a",
   "metadata": {},
   "outputs": [],
   "source": [
    "\"\"\"\n",
    "Importing all the sklearn models \n",
    "\"\"\"\n",
    "\n",
    "from sklearn.cluster import KMeans\n",
    "from sklearn.preprocessing import StandardScaler"
   ]
  },
  {
   "cell_type": "code",
   "execution_count": 7,
   "id": "5b700f86",
   "metadata": {},
   "outputs": [],
   "source": [
    "from imblearn.ensemble import BalancedBaggingClassifier"
   ]
  },
  {
   "cell_type": "code",
   "execution_count": 8,
   "id": "213cfc0a",
   "metadata": {},
   "outputs": [],
   "source": [
    "warnings.filterwarnings(\"ignore\")"
   ]
  },
  {
   "cell_type": "code",
   "execution_count": 9,
   "id": "ab634032",
   "metadata": {},
   "outputs": [],
   "source": [
    "\"\"\"\n",
    "Reading the CSV file \n",
    "\"\"\"\n",
    "\n",
    "data = pd.read_csv('new_physics_signal.csv')"
   ]
  },
  {
   "cell_type": "code",
   "execution_count": 10,
   "id": "bd842c3a",
   "metadata": {},
   "outputs": [
    {
     "data": {
      "text/html": [
       "<div>\n",
       "<style scoped>\n",
       "    .dataframe tbody tr th:only-of-type {\n",
       "        vertical-align: middle;\n",
       "    }\n",
       "\n",
       "    .dataframe tbody tr th {\n",
       "        vertical-align: top;\n",
       "    }\n",
       "\n",
       "    .dataframe thead th {\n",
       "        text-align: right;\n",
       "    }\n",
       "</style>\n",
       "<table border=\"1\" class=\"dataframe\">\n",
       "  <thead>\n",
       "    <tr style=\"text-align: right;\">\n",
       "      <th></th>\n",
       "      <th>p1</th>\n",
       "      <th>p2</th>\n",
       "      <th>p3</th>\n",
       "      <th>p4</th>\n",
       "      <th>p5</th>\n",
       "      <th>p6</th>\n",
       "      <th>p7</th>\n",
       "      <th>p8</th>\n",
       "      <th>p9</th>\n",
       "      <th>p10</th>\n",
       "      <th>p11</th>\n",
       "      <th>p12</th>\n",
       "      <th>p13</th>\n",
       "      <th>p14</th>\n",
       "      <th>Class</th>\n",
       "    </tr>\n",
       "  </thead>\n",
       "  <tbody>\n",
       "    <tr>\n",
       "      <th>0</th>\n",
       "      <td>78.482022</td>\n",
       "      <td>52.871985</td>\n",
       "      <td>-64.917465</td>\n",
       "      <td>-78.448475</td>\n",
       "      <td>-57.987246</td>\n",
       "      <td>-92.520585</td>\n",
       "      <td>27.806597</td>\n",
       "      <td>46.774201</td>\n",
       "      <td>-57.512910</td>\n",
       "      <td>22.899098</td>\n",
       "      <td>-38.790567</td>\n",
       "      <td>-83.959697</td>\n",
       "      <td>11.666977</td>\n",
       "      <td>846.710033</td>\n",
       "      <td>0</td>\n",
       "    </tr>\n",
       "    <tr>\n",
       "      <th>1</th>\n",
       "      <td>78.379086</td>\n",
       "      <td>55.058180</td>\n",
       "      <td>-68.153619</td>\n",
       "      <td>-82.693368</td>\n",
       "      <td>-59.561586</td>\n",
       "      <td>-93.335494</td>\n",
       "      <td>19.354007</td>\n",
       "      <td>47.128549</td>\n",
       "      <td>-60.470478</td>\n",
       "      <td>23.100267</td>\n",
       "      <td>-36.209469</td>\n",
       "      <td>-84.888323</td>\n",
       "      <td>11.836796</td>\n",
       "      <td>25.025335</td>\n",
       "      <td>0</td>\n",
       "    </tr>\n",
       "    <tr>\n",
       "      <th>2</th>\n",
       "      <td>79.609922</td>\n",
       "      <td>55.395154</td>\n",
       "      <td>-61.506139</td>\n",
       "      <td>-99.031856</td>\n",
       "      <td>-56.643424</td>\n",
       "      <td>-91.474574</td>\n",
       "      <td>32.361097</td>\n",
       "      <td>48.480810</td>\n",
       "      <td>-63.011139</td>\n",
       "      <td>20.523559</td>\n",
       "      <td>-38.380731</td>\n",
       "      <td>-85.190411</td>\n",
       "      <td>11.483291</td>\n",
       "      <td>2127.582986</td>\n",
       "      <td>0</td>\n",
       "    </tr>\n",
       "    <tr>\n",
       "      <th>3</th>\n",
       "      <td>80.592326</td>\n",
       "      <td>55.085738</td>\n",
       "      <td>-73.077999</td>\n",
       "      <td>-91.084996</td>\n",
       "      <td>-60.244160</td>\n",
       "      <td>-92.874068</td>\n",
       "      <td>25.292852</td>\n",
       "      <td>46.640591</td>\n",
       "      <td>-66.546879</td>\n",
       "      <td>25.600912</td>\n",
       "      <td>-39.059436</td>\n",
       "      <td>-84.421174</td>\n",
       "      <td>12.058619</td>\n",
       "      <td>700.637724</td>\n",
       "      <td>0</td>\n",
       "    </tr>\n",
       "    <tr>\n",
       "      <th>4</th>\n",
       "      <td>75.686606</td>\n",
       "      <td>56.323331</td>\n",
       "      <td>-69.943208</td>\n",
       "      <td>-75.363929</td>\n",
       "      <td>-57.215389</td>\n",
       "      <td>-92.485721</td>\n",
       "      <td>32.606410</td>\n",
       "      <td>46.729047</td>\n",
       "      <td>-56.972408</td>\n",
       "      <td>21.156952</td>\n",
       "      <td>-33.125372</td>\n",
       "      <td>-83.400313</td>\n",
       "      <td>12.788145</td>\n",
       "      <td>401.390816</td>\n",
       "      <td>0</td>\n",
       "    </tr>\n",
       "  </tbody>\n",
       "</table>\n",
       "</div>"
      ],
      "text/plain": [
       "          p1         p2         p3         p4         p5         p6  \\\n",
       "0  78.482022  52.871985 -64.917465 -78.448475 -57.987246 -92.520585   \n",
       "1  78.379086  55.058180 -68.153619 -82.693368 -59.561586 -93.335494   \n",
       "2  79.609922  55.395154 -61.506139 -99.031856 -56.643424 -91.474574   \n",
       "3  80.592326  55.085738 -73.077999 -91.084996 -60.244160 -92.874068   \n",
       "4  75.686606  56.323331 -69.943208 -75.363929 -57.215389 -92.485721   \n",
       "\n",
       "          p7         p8         p9        p10        p11        p12  \\\n",
       "0  27.806597  46.774201 -57.512910  22.899098 -38.790567 -83.959697   \n",
       "1  19.354007  47.128549 -60.470478  23.100267 -36.209469 -84.888323   \n",
       "2  32.361097  48.480810 -63.011139  20.523559 -38.380731 -85.190411   \n",
       "3  25.292852  46.640591 -66.546879  25.600912 -39.059436 -84.421174   \n",
       "4  32.606410  46.729047 -56.972408  21.156952 -33.125372 -83.400313   \n",
       "\n",
       "         p13          p14  Class  \n",
       "0  11.666977   846.710033      0  \n",
       "1  11.836796    25.025335      0  \n",
       "2  11.483291  2127.582986      0  \n",
       "3  12.058619   700.637724      0  \n",
       "4  12.788145   401.390816      0  "
      ]
     },
     "execution_count": 10,
     "metadata": {},
     "output_type": "execute_result"
    }
   ],
   "source": [
    "\"\"\"\n",
    "Printing the first 5 rows of the table\n",
    "\"\"\"\n",
    "\n",
    "data.head()"
   ]
  },
  {
   "cell_type": "markdown",
   "id": "e8511ebf",
   "metadata": {},
   "source": [
    "### Data Preprocessing"
   ]
  },
  {
   "cell_type": "code",
   "execution_count": 11,
   "id": "dfbaa8ce",
   "metadata": {},
   "outputs": [
    {
     "data": {
      "text/plain": [
       "p1       5\n",
       "p2       5\n",
       "p3       5\n",
       "p4       5\n",
       "p5       5\n",
       "p6       5\n",
       "p7       5\n",
       "p8       5\n",
       "p9       5\n",
       "p10      5\n",
       "p11      5\n",
       "p12      5\n",
       "p13      5\n",
       "p14      5\n",
       "Class    0\n",
       "dtype: int64"
      ]
     },
     "execution_count": 11,
     "metadata": {},
     "output_type": "execute_result"
    }
   ],
   "source": [
    "\"\"\"\n",
    "Checking the total number of rows those are having null values at each column\n",
    "\"\"\"\n",
    "\n",
    "data.isnull().sum()"
   ]
  },
  {
   "cell_type": "markdown",
   "id": "8e0e3c7e",
   "metadata": {},
   "source": [
    "### Taking care of missing data"
   ]
  },
  {
   "cell_type": "code",
   "execution_count": 12,
   "id": "300340a9",
   "metadata": {},
   "outputs": [
    {
     "data": {
      "text/plain": [
       "p1       0\n",
       "p2       0\n",
       "p3       0\n",
       "p4       0\n",
       "p5       0\n",
       "p6       0\n",
       "p7       0\n",
       "p8       0\n",
       "p9       0\n",
       "p10      0\n",
       "p11      0\n",
       "p12      0\n",
       "p13      0\n",
       "p14      0\n",
       "Class    0\n",
       "dtype: int64"
      ]
     },
     "execution_count": 12,
     "metadata": {},
     "output_type": "execute_result"
    }
   ],
   "source": [
    "\"\"\"\n",
    "removing the values containing null, we can not replace as replacing would alter the event (the particle event), \n",
    "and as the number of datapoints are sufficient, we do not need to replace with mean and dropping is fine.\n",
    "\"\"\"\n",
    "\n",
    "data = data.dropna()\n",
    "data.isnull().sum()"
   ]
  },
  {
   "cell_type": "code",
   "execution_count": 13,
   "id": "c28d3843",
   "metadata": {},
   "outputs": [
    {
     "data": {
      "text/plain": [
       "0    284245\n",
       "1       492\n",
       "Name: Class, dtype: int64"
      ]
     },
     "execution_count": 13,
     "metadata": {},
     "output_type": "execute_result"
    }
   ],
   "source": [
    "data['Class'].value_counts()"
   ]
  },
  {
   "cell_type": "code",
   "execution_count": 14,
   "id": "17ae50b5",
   "metadata": {},
   "outputs": [],
   "source": [
    "\"\"\"\n",
    "As we can see that there are 492 datapoints with class value 1 and other 284245 is 0, which is unbalanced\n",
    "and makes the model a bit overfitted and biased for class 0\n",
    "\n",
    "Balancing the unbalanced data by randomly sampling the class with more datapoints. We took 600 random sampled \n",
    "datapoints from class 0 and keeping all the 423 number of datapoints for class 1. So that it is kept balanced. \n",
    "(however, I did't use the same technique for the previous notebook, in order to see the model performance)\n",
    "\n",
    "This step is to deal with the bias-variance trade-off.\n",
    "\"\"\"\n",
    "\n",
    "shuffled = data.sample(frac=1, random_state=4)\n",
    "data_zero = shuffled.loc[shuffled['Class'] == 0].sample(n=600, random_state = 123)\n",
    "data_one = shuffled.loc[shuffled['Class'] == 1]\n",
    "\n",
    "data_sampled_concated = pd.concat([data_zero, data_one]).sample(frac=1, random_state=4)\n",
    "data_sampled_concated = data_sampled_concated.reset_index(drop=True)\n",
    "data = data_sampled_concated"
   ]
  },
  {
   "cell_type": "code",
   "execution_count": 15,
   "id": "b6ca3836",
   "metadata": {},
   "outputs": [],
   "source": [
    "\"\"\"\n",
    "x = Taking all the rows and columns (not the last)\n",
    "y = Taking all the rows but just the last column\n",
    "\"\"\"\n",
    "\n",
    "data_x = data.iloc[:, :-1]\n",
    "data_y = data.iloc[:, -1:]"
   ]
  },
  {
   "cell_type": "markdown",
   "id": "2a11cd64",
   "metadata": {},
   "source": [
    "### Scaling and splitting the dataset into the training set and test set"
   ]
  },
  {
   "cell_type": "code",
   "execution_count": 20,
   "id": "1a67534d",
   "metadata": {},
   "outputs": [],
   "source": [
    "\"\"\"\n",
    "Standardizing the data between the value of -1 to + 1\n",
    "\"\"\"\n",
    "\n",
    "scaler = StandardScaler()"
   ]
  },
  {
   "cell_type": "code",
   "execution_count": 21,
   "id": "50795bb1",
   "metadata": {},
   "outputs": [],
   "source": [
    "data_x_scaled = scaler.fit_transform(data_x)"
   ]
  },
  {
   "cell_type": "code",
   "execution_count": 22,
   "id": "666dddf2",
   "metadata": {},
   "outputs": [],
   "source": [
    "\"\"\"\n",
    "Converting pandas dataframe into numpy arrays\n",
    "\"\"\"\n",
    "\n",
    "X = np.array(data_x_scaled)\n",
    "y = np.array(data_y)"
   ]
  },
  {
   "cell_type": "markdown",
   "id": "ab85e661",
   "metadata": {},
   "source": [
    "# K-Means clustering"
   ]
  },
  {
   "cell_type": "code",
   "execution_count": 34,
   "id": "93530a2e",
   "metadata": {},
   "outputs": [
    {
     "data": {
      "text/html": [
       "<div>\n",
       "<style scoped>\n",
       "    .dataframe tbody tr th:only-of-type {\n",
       "        vertical-align: middle;\n",
       "    }\n",
       "\n",
       "    .dataframe tbody tr th {\n",
       "        vertical-align: top;\n",
       "    }\n",
       "\n",
       "    .dataframe thead th {\n",
       "        text-align: right;\n",
       "    }\n",
       "</style>\n",
       "<table border=\"1\" class=\"dataframe\">\n",
       "  <thead>\n",
       "    <tr style=\"text-align: right;\">\n",
       "      <th></th>\n",
       "      <th>p1</th>\n",
       "      <th>p2</th>\n",
       "      <th>p3</th>\n",
       "      <th>p4</th>\n",
       "      <th>p5</th>\n",
       "      <th>p6</th>\n",
       "      <th>p7</th>\n",
       "      <th>p8</th>\n",
       "      <th>p9</th>\n",
       "      <th>p10</th>\n",
       "      <th>p11</th>\n",
       "      <th>p12</th>\n",
       "      <th>p13</th>\n",
       "      <th>p14</th>\n",
       "      <th>Class</th>\n",
       "    </tr>\n",
       "  </thead>\n",
       "  <tbody>\n",
       "    <tr>\n",
       "      <th>0</th>\n",
       "      <td>77.672184</td>\n",
       "      <td>54.008986</td>\n",
       "      <td>-69.023635</td>\n",
       "      <td>-79.256132</td>\n",
       "      <td>-59.731660</td>\n",
       "      <td>-93.365322</td>\n",
       "      <td>18.464684</td>\n",
       "      <td>47.107751</td>\n",
       "      <td>-58.156024</td>\n",
       "      <td>23.346332</td>\n",
       "      <td>-36.426056</td>\n",
       "      <td>-85.068770</td>\n",
       "      <td>11.787810</td>\n",
       "      <td>21.054763</td>\n",
       "      <td>0</td>\n",
       "    </tr>\n",
       "    <tr>\n",
       "      <th>1</th>\n",
       "      <td>80.451955</td>\n",
       "      <td>54.114047</td>\n",
       "      <td>-66.338322</td>\n",
       "      <td>-83.180004</td>\n",
       "      <td>-57.694637</td>\n",
       "      <td>-90.866809</td>\n",
       "      <td>24.025645</td>\n",
       "      <td>46.903878</td>\n",
       "      <td>-54.648712</td>\n",
       "      <td>25.148008</td>\n",
       "      <td>-33.886783</td>\n",
       "      <td>-81.313982</td>\n",
       "      <td>13.176248</td>\n",
       "      <td>14.232091</td>\n",
       "      <td>1</td>\n",
       "    </tr>\n",
       "    <tr>\n",
       "      <th>2</th>\n",
       "      <td>111.444343</td>\n",
       "      <td>54.509924</td>\n",
       "      <td>-80.350575</td>\n",
       "      <td>-72.524855</td>\n",
       "      <td>-60.111024</td>\n",
       "      <td>-88.197799</td>\n",
       "      <td>22.011122</td>\n",
       "      <td>47.767354</td>\n",
       "      <td>-53.192578</td>\n",
       "      <td>20.164871</td>\n",
       "      <td>-40.627603</td>\n",
       "      <td>-91.328600</td>\n",
       "      <td>10.651295</td>\n",
       "      <td>222.099920</td>\n",
       "      <td>1</td>\n",
       "    </tr>\n",
       "    <tr>\n",
       "      <th>3</th>\n",
       "      <td>53.092153</td>\n",
       "      <td>55.959604</td>\n",
       "      <td>-66.679893</td>\n",
       "      <td>-66.440330</td>\n",
       "      <td>-61.509749</td>\n",
       "      <td>-84.735927</td>\n",
       "      <td>23.239096</td>\n",
       "      <td>46.039832</td>\n",
       "      <td>-53.305913</td>\n",
       "      <td>20.383395</td>\n",
       "      <td>-42.253633</td>\n",
       "      <td>-110.290068</td>\n",
       "      <td>8.580786</td>\n",
       "      <td>73.678823</td>\n",
       "      <td>1</td>\n",
       "    </tr>\n",
       "    <tr>\n",
       "      <th>4</th>\n",
       "      <td>83.882752</td>\n",
       "      <td>53.809631</td>\n",
       "      <td>-69.439805</td>\n",
       "      <td>-81.765283</td>\n",
       "      <td>-58.982291</td>\n",
       "      <td>-93.239657</td>\n",
       "      <td>19.576255</td>\n",
       "      <td>47.221861</td>\n",
       "      <td>-53.721888</td>\n",
       "      <td>21.926072</td>\n",
       "      <td>-37.864042</td>\n",
       "      <td>-84.847947</td>\n",
       "      <td>11.699648</td>\n",
       "      <td>506.862629</td>\n",
       "      <td>0</td>\n",
       "    </tr>\n",
       "  </tbody>\n",
       "</table>\n",
       "</div>"
      ],
      "text/plain": [
       "           p1         p2         p3         p4         p5         p6  \\\n",
       "0   77.672184  54.008986 -69.023635 -79.256132 -59.731660 -93.365322   \n",
       "1   80.451955  54.114047 -66.338322 -83.180004 -57.694637 -90.866809   \n",
       "2  111.444343  54.509924 -80.350575 -72.524855 -60.111024 -88.197799   \n",
       "3   53.092153  55.959604 -66.679893 -66.440330 -61.509749 -84.735927   \n",
       "4   83.882752  53.809631 -69.439805 -81.765283 -58.982291 -93.239657   \n",
       "\n",
       "          p7         p8         p9        p10        p11         p12  \\\n",
       "0  18.464684  47.107751 -58.156024  23.346332 -36.426056  -85.068770   \n",
       "1  24.025645  46.903878 -54.648712  25.148008 -33.886783  -81.313982   \n",
       "2  22.011122  47.767354 -53.192578  20.164871 -40.627603  -91.328600   \n",
       "3  23.239096  46.039832 -53.305913  20.383395 -42.253633 -110.290068   \n",
       "4  19.576255  47.221861 -53.721888  21.926072 -37.864042  -84.847947   \n",
       "\n",
       "         p13         p14  Class  \n",
       "0  11.787810   21.054763      0  \n",
       "1  13.176248   14.232091      1  \n",
       "2  10.651295  222.099920      1  \n",
       "3   8.580786   73.678823      1  \n",
       "4  11.699648  506.862629      0  "
      ]
     },
     "execution_count": 34,
     "metadata": {},
     "output_type": "execute_result"
    }
   ],
   "source": [
    "data.head()"
   ]
  },
  {
   "cell_type": "code",
   "execution_count": 36,
   "id": "7f870fc8",
   "metadata": {},
   "outputs": [
    {
     "data": {
      "image/png": "[encoded data removed]",
      "text/plain": [
       "<Figure size 432x288 with 1 Axes>"
      ]
     },
     "metadata": {
      "needs_background": "light"
     },
     "output_type": "display_data"
    }
   ],
   "source": [
    "X = data[[\"p1\", \"p2\"]]\n",
    "plt.scatter(X[\"p1\"], X[\"p2\"], c=\"blue\")\n",
    "plt.xlabel(\"p1\")\n",
    "plt.ylabel(\"p2\")\n",
    "plt.show()"
   ]
  },
  {
   "cell_type": "code",
   "execution_count": 37,
   "id": "77d62ad3",
   "metadata": {},
   "outputs": [
    {
     "data": {
      "image/png": "[encoded data removed]",
      "text/plain": [
       "<Figure size 432x288 with 1 Axes>"
      ]
     },
     "metadata": {
      "needs_background": "light"
     },
     "output_type": "display_data"
    }
   ],
   "source": [
    "# step 1 and 2\n",
    "\n",
    "# number of centriod\n",
    "K=3\n",
    "\n",
    "# select random observation as a centriod \n",
    "Centroids = (X.sample(n=K))\n",
    "plt.scatter(X[\"p1\"], X[\"p2\"], c=\"blue\")\n",
    "plt.scatter(Centroids[\"p1\"], Centroids[\"p2\"], c=\"red\")\n",
    "plt.xlabel(\"p1\")\n",
    "plt.ylabel(\"p2\")\n",
    "plt.show()"
   ]
  },
  {
   "cell_type": "code",
   "execution_count": 38,
   "id": "8b905531",
   "metadata": {},
   "outputs": [
    {
     "data": {
      "text/html": [
       "<div>\n",
       "<style scoped>\n",
       "    .dataframe tbody tr th:only-of-type {\n",
       "        vertical-align: middle;\n",
       "    }\n",
       "\n",
       "    .dataframe tbody tr th {\n",
       "        vertical-align: top;\n",
       "    }\n",
       "\n",
       "    .dataframe thead th {\n",
       "        text-align: right;\n",
       "    }\n",
       "</style>\n",
       "<table border=\"1\" class=\"dataframe\">\n",
       "  <thead>\n",
       "    <tr style=\"text-align: right;\">\n",
       "      <th></th>\n",
       "      <th>p1</th>\n",
       "      <th>p2</th>\n",
       "    </tr>\n",
       "  </thead>\n",
       "  <tbody>\n",
       "    <tr>\n",
       "      <th>375</th>\n",
       "      <td>79.709873</td>\n",
       "      <td>54.139036</td>\n",
       "    </tr>\n",
       "    <tr>\n",
       "      <th>228</th>\n",
       "      <td>79.262160</td>\n",
       "      <td>54.398445</td>\n",
       "    </tr>\n",
       "    <tr>\n",
       "      <th>113</th>\n",
       "      <td>75.596640</td>\n",
       "      <td>56.353858</td>\n",
       "    </tr>\n",
       "  </tbody>\n",
       "</table>\n",
       "</div>"
      ],
      "text/plain": [
       "            p1         p2\n",
       "375  79.709873  54.139036\n",
       "228  79.262160  54.398445\n",
       "113  75.596640  56.353858"
      ]
     },
     "execution_count": 38,
     "metadata": {},
     "output_type": "execute_result"
    }
   ],
   "source": [
    "Centroids"
   ]
  },
  {
   "cell_type": "code",
   "execution_count": 39,
   "id": "c3cf7a78",
   "metadata": {},
   "outputs": [
    {
     "name": "stdout",
     "output_type": "stream",
     "text": [
      "-23.559677778037205\n",
      "-40.69724348623388\n",
      "-39.62115845845658\n",
      "-10.09419456501611\n",
      "-56.617751723388935\n",
      "-24.8500905595628\n",
      "1.391869652426216\n",
      "1.4379205290206514\n",
      "0.7786562638469618\n",
      "0.0\n"
     ]
    }
   ],
   "source": [
    "# Step 3 - Assign all the points to the closest cluster centroid\n",
    "# Step 4 - Recompute centroids of newly formed clusters\n",
    "# Step 5 - Repeat step 3 and 4\n",
    "\n",
    "diff = 1\n",
    "j=0\n",
    "\n",
    "while(diff!=0):\n",
    "    XD=X\n",
    "    i=1\n",
    "    for index1, row_c in Centroids.iterrows():\n",
    "        ED=[]\n",
    "        for index2, row_d in XD.iterrows():\n",
    "            d1 = (row_c[\"p1\"]-row_d[\"p1\"])**2\n",
    "            d2 = (row_c[\"p2\"]-row_d[\"p2\"])**2\n",
    "            d = sqrt(d1+d2)\n",
    "            ED.append(d)\n",
    "        X[i] = ED\n",
    "        i = i+1\n",
    "    \n",
    "    C = []\n",
    "    for index, row in X.iterrows():\n",
    "        min_dist=row[1]\n",
    "        pos=1\n",
    "        for i in range(K):\n",
    "            if row[i+1] < min_dist:\n",
    "                min_dist = row[i+1]\n",
    "                pos = i+1\n",
    "        C.append(pos)\n",
    "    X[\"Cluster\"]=C\n",
    "    Centroids_new = X.groupby([\"Cluster\"]).mean()[[\"p2\", \"p1\"]]\n",
    "    if j == 0:\n",
    "        diff = 1\n",
    "        j = j+1\n",
    "    else:\n",
    "        diff = (Centroids_new['p2'] - Centroids['p2']).sum() + (Centroids_new['p1'] - Centroids['p1']).sum()\n",
    "        print(diff.sum())\n",
    "    Centroids = X.groupby([\"Cluster\"]).mean()[[\"p2\",\"p1\"]]"
   ]
  },
  {
   "cell_type": "code",
   "execution_count": 40,
   "id": "10e5a217",
   "metadata": {},
   "outputs": [
    {
     "data": {
      "image/png": "[encoded data removed]",
      "text/plain": [
       "<Figure size 432x288 with 1 Axes>"
      ]
     },
     "metadata": {
      "needs_background": "light"
     },
     "output_type": "display_data"
    }
   ],
   "source": [
    "color=['blue','green','cyan']\n",
    "for k in range(K):\n",
    "    data=X[X[\"Cluster\"]==k+1]\n",
    "    plt.scatter(data[\"p1\"],data[\"p2\"],c=color[k])\n",
    "plt.scatter(Centroids[\"p1\"],Centroids[\"p2\"],c='red')\n",
    "plt.xlabel('p1')\n",
    "plt.ylabel('p2')\n",
    "plt.show()"
   ]
  },
  {
   "cell_type": "code",
   "execution_count": null,
   "id": "09f484d3",
   "metadata": {},
   "outputs": [],
   "source": []
  }
 ],
 "metadata": {
  "kernelspec": {
   "display_name": "Python 3",
   "language": "python",
   "name": "python3"
  },
  "language_info": {
   "codemirror_mode": {
    "name": "ipython",
    "version": 3
   },
   "file_extension": ".py",
   "mimetype": "text/x-python",
   "name": "python",
   "nbconvert_exporter": "python",
   "pygments_lexer": "ipython3",
   "version": "3.9.7"
  }
 },
 "nbformat": 4,
 "nbformat_minor": 5
}

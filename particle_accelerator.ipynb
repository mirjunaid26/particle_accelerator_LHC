{
 "cells": [
  {
   "cell_type": "markdown",
   "id": "fd729b84",
   "metadata": {},
   "source": [
    "# Data Preprocessing"
   ]
  },
  {
   "cell_type": "code",
   "execution_count": 26,
   "id": "73c686bc",
   "metadata": {},
   "outputs": [],
   "source": [
    "import numpy as np\n",
    "import matplotlib.pyplot as plt\n",
    "import pandas as pd"
   ]
  },
  {
   "cell_type": "markdown",
   "id": "b9f5d001",
   "metadata": {},
   "source": [
    "# Import the dataset"
   ]
  },
  {
   "cell_type": "code",
   "execution_count": 27,
   "id": "4905b0fc",
   "metadata": {},
   "outputs": [],
   "source": [
    "dataset = pd.read_csv('new_physics_signal.csv')"
   ]
  },
  {
   "cell_type": "code",
   "execution_count": 28,
   "id": "4f23c362",
   "metadata": {},
   "outputs": [
    {
     "data": {
      "text/html": [
       "<div>\n",
       "<style scoped>\n",
       "    .dataframe tbody tr th:only-of-type {\n",
       "        vertical-align: middle;\n",
       "    }\n",
       "\n",
       "    .dataframe tbody tr th {\n",
       "        vertical-align: top;\n",
       "    }\n",
       "\n",
       "    .dataframe thead th {\n",
       "        text-align: right;\n",
       "    }\n",
       "</style>\n",
       "<table border=\"1\" class=\"dataframe\">\n",
       "  <thead>\n",
       "    <tr style=\"text-align: right;\">\n",
       "      <th></th>\n",
       "      <th>p1</th>\n",
       "      <th>p2</th>\n",
       "      <th>p3</th>\n",
       "      <th>p4</th>\n",
       "      <th>p5</th>\n",
       "      <th>p6</th>\n",
       "      <th>p7</th>\n",
       "      <th>p8</th>\n",
       "      <th>p9</th>\n",
       "      <th>p10</th>\n",
       "      <th>p11</th>\n",
       "      <th>p12</th>\n",
       "      <th>p13</th>\n",
       "      <th>p14</th>\n",
       "      <th>Class</th>\n",
       "    </tr>\n",
       "  </thead>\n",
       "  <tbody>\n",
       "    <tr>\n",
       "      <th>0</th>\n",
       "      <td>78.482022</td>\n",
       "      <td>52.871985</td>\n",
       "      <td>-64.917465</td>\n",
       "      <td>-78.448475</td>\n",
       "      <td>-57.987246</td>\n",
       "      <td>-92.520585</td>\n",
       "      <td>27.806597</td>\n",
       "      <td>46.774201</td>\n",
       "      <td>-57.512910</td>\n",
       "      <td>22.899098</td>\n",
       "      <td>-38.790567</td>\n",
       "      <td>-83.959697</td>\n",
       "      <td>11.666977</td>\n",
       "      <td>846.710033</td>\n",
       "      <td>0</td>\n",
       "    </tr>\n",
       "    <tr>\n",
       "      <th>1</th>\n",
       "      <td>78.379086</td>\n",
       "      <td>55.058180</td>\n",
       "      <td>-68.153619</td>\n",
       "      <td>-82.693368</td>\n",
       "      <td>-59.561586</td>\n",
       "      <td>-93.335494</td>\n",
       "      <td>19.354007</td>\n",
       "      <td>47.128549</td>\n",
       "      <td>-60.470478</td>\n",
       "      <td>23.100267</td>\n",
       "      <td>-36.209469</td>\n",
       "      <td>-84.888323</td>\n",
       "      <td>11.836796</td>\n",
       "      <td>25.025335</td>\n",
       "      <td>0</td>\n",
       "    </tr>\n",
       "    <tr>\n",
       "      <th>2</th>\n",
       "      <td>79.609922</td>\n",
       "      <td>55.395154</td>\n",
       "      <td>-61.506139</td>\n",
       "      <td>-99.031856</td>\n",
       "      <td>-56.643424</td>\n",
       "      <td>-91.474574</td>\n",
       "      <td>32.361097</td>\n",
       "      <td>48.480810</td>\n",
       "      <td>-63.011139</td>\n",
       "      <td>20.523559</td>\n",
       "      <td>-38.380731</td>\n",
       "      <td>-85.190411</td>\n",
       "      <td>11.483291</td>\n",
       "      <td>2127.582986</td>\n",
       "      <td>0</td>\n",
       "    </tr>\n",
       "    <tr>\n",
       "      <th>3</th>\n",
       "      <td>80.592326</td>\n",
       "      <td>55.085738</td>\n",
       "      <td>-73.077999</td>\n",
       "      <td>-91.084996</td>\n",
       "      <td>-60.244160</td>\n",
       "      <td>-92.874068</td>\n",
       "      <td>25.292852</td>\n",
       "      <td>46.640591</td>\n",
       "      <td>-66.546879</td>\n",
       "      <td>25.600912</td>\n",
       "      <td>-39.059436</td>\n",
       "      <td>-84.421174</td>\n",
       "      <td>12.058619</td>\n",
       "      <td>700.637724</td>\n",
       "      <td>0</td>\n",
       "    </tr>\n",
       "    <tr>\n",
       "      <th>4</th>\n",
       "      <td>75.686606</td>\n",
       "      <td>56.323331</td>\n",
       "      <td>-69.943208</td>\n",
       "      <td>-75.363929</td>\n",
       "      <td>-57.215389</td>\n",
       "      <td>-92.485721</td>\n",
       "      <td>32.606410</td>\n",
       "      <td>46.729047</td>\n",
       "      <td>-56.972408</td>\n",
       "      <td>21.156952</td>\n",
       "      <td>-33.125372</td>\n",
       "      <td>-83.400313</td>\n",
       "      <td>12.788145</td>\n",
       "      <td>401.390816</td>\n",
       "      <td>0</td>\n",
       "    </tr>\n",
       "    <tr>\n",
       "      <th>...</th>\n",
       "      <td>...</td>\n",
       "      <td>...</td>\n",
       "      <td>...</td>\n",
       "      <td>...</td>\n",
       "      <td>...</td>\n",
       "      <td>...</td>\n",
       "      <td>...</td>\n",
       "      <td>...</td>\n",
       "      <td>...</td>\n",
       "      <td>...</td>\n",
       "      <td>...</td>\n",
       "      <td>...</td>\n",
       "      <td>...</td>\n",
       "      <td>...</td>\n",
       "      <td>...</td>\n",
       "    </tr>\n",
       "    <tr>\n",
       "      <th>284802</th>\n",
       "      <td>133.042906</td>\n",
       "      <td>53.318139</td>\n",
       "      <td>-74.216965</td>\n",
       "      <td>-86.840671</td>\n",
       "      <td>-51.972651</td>\n",
       "      <td>-91.610258</td>\n",
       "      <td>26.275889</td>\n",
       "      <td>48.656623</td>\n",
       "      <td>-61.702890</td>\n",
       "      <td>29.711831</td>\n",
       "      <td>-35.192303</td>\n",
       "      <td>-78.682124</td>\n",
       "      <td>15.676796</td>\n",
       "      <td>14.288014</td>\n",
       "      <td>0</td>\n",
       "    </tr>\n",
       "    <tr>\n",
       "      <th>284803</th>\n",
       "      <td>79.967216</td>\n",
       "      <td>56.129745</td>\n",
       "      <td>-66.096096</td>\n",
       "      <td>-93.501201</td>\n",
       "      <td>-58.929389</td>\n",
       "      <td>-91.607308</td>\n",
       "      <td>33.769425</td>\n",
       "      <td>46.979915</td>\n",
       "      <td>-65.388282</td>\n",
       "      <td>19.070774</td>\n",
       "      <td>-40.479622</td>\n",
       "      <td>-84.383717</td>\n",
       "      <td>11.512836</td>\n",
       "      <td>148.616377</td>\n",
       "      <td>0</td>\n",
       "    </tr>\n",
       "    <tr>\n",
       "      <th>284804</th>\n",
       "      <td>83.098159</td>\n",
       "      <td>54.064683</td>\n",
       "      <td>-65.457304</td>\n",
       "      <td>-86.024796</td>\n",
       "      <td>-59.215377</td>\n",
       "      <td>-91.537236</td>\n",
       "      <td>30.576984</td>\n",
       "      <td>46.896309</td>\n",
       "      <td>-53.345257</td>\n",
       "      <td>23.613591</td>\n",
       "      <td>-37.956903</td>\n",
       "      <td>-84.800778</td>\n",
       "      <td>11.640835</td>\n",
       "      <td>389.590948</td>\n",
       "      <td>0</td>\n",
       "    </tr>\n",
       "    <tr>\n",
       "      <th>284805</th>\n",
       "      <td>82.876545</td>\n",
       "      <td>52.797130</td>\n",
       "      <td>-62.995925</td>\n",
       "      <td>-59.193084</td>\n",
       "      <td>-58.596254</td>\n",
       "      <td>-91.406831</td>\n",
       "      <td>32.622736</td>\n",
       "      <td>46.685808</td>\n",
       "      <td>-57.103731</td>\n",
       "      <td>19.265872</td>\n",
       "      <td>-32.761766</td>\n",
       "      <td>-84.120857</td>\n",
       "      <td>12.263078</td>\n",
       "      <td>65.905449</td>\n",
       "      <td>0</td>\n",
       "    </tr>\n",
       "    <tr>\n",
       "      <th>284806</th>\n",
       "      <td>74.595502</td>\n",
       "      <td>54.058194</td>\n",
       "      <td>-70.463203</td>\n",
       "      <td>-83.545270</td>\n",
       "      <td>-57.341113</td>\n",
       "      <td>-91.423279</td>\n",
       "      <td>31.175063</td>\n",
       "      <td>47.589534</td>\n",
       "      <td>-57.935566</td>\n",
       "      <td>19.763236</td>\n",
       "      <td>-43.945663</td>\n",
       "      <td>-84.845535</td>\n",
       "      <td>11.831692</td>\n",
       "      <td>1223.522902</td>\n",
       "      <td>0</td>\n",
       "    </tr>\n",
       "  </tbody>\n",
       "</table>\n",
       "<p>284807 rows × 15 columns</p>\n",
       "</div>"
      ],
      "text/plain": [
       "                p1         p2         p3         p4         p5         p6  \\\n",
       "0        78.482022  52.871985 -64.917465 -78.448475 -57.987246 -92.520585   \n",
       "1        78.379086  55.058180 -68.153619 -82.693368 -59.561586 -93.335494   \n",
       "2        79.609922  55.395154 -61.506139 -99.031856 -56.643424 -91.474574   \n",
       "3        80.592326  55.085738 -73.077999 -91.084996 -60.244160 -92.874068   \n",
       "4        75.686606  56.323331 -69.943208 -75.363929 -57.215389 -92.485721   \n",
       "...            ...        ...        ...        ...        ...        ...   \n",
       "284802  133.042906  53.318139 -74.216965 -86.840671 -51.972651 -91.610258   \n",
       "284803   79.967216  56.129745 -66.096096 -93.501201 -58.929389 -91.607308   \n",
       "284804   83.098159  54.064683 -65.457304 -86.024796 -59.215377 -91.537236   \n",
       "284805   82.876545  52.797130 -62.995925 -59.193084 -58.596254 -91.406831   \n",
       "284806   74.595502  54.058194 -70.463203 -83.545270 -57.341113 -91.423279   \n",
       "\n",
       "               p7         p8         p9        p10        p11        p12  \\\n",
       "0       27.806597  46.774201 -57.512910  22.899098 -38.790567 -83.959697   \n",
       "1       19.354007  47.128549 -60.470478  23.100267 -36.209469 -84.888323   \n",
       "2       32.361097  48.480810 -63.011139  20.523559 -38.380731 -85.190411   \n",
       "3       25.292852  46.640591 -66.546879  25.600912 -39.059436 -84.421174   \n",
       "4       32.606410  46.729047 -56.972408  21.156952 -33.125372 -83.400313   \n",
       "...           ...        ...        ...        ...        ...        ...   \n",
       "284802  26.275889  48.656623 -61.702890  29.711831 -35.192303 -78.682124   \n",
       "284803  33.769425  46.979915 -65.388282  19.070774 -40.479622 -84.383717   \n",
       "284804  30.576984  46.896309 -53.345257  23.613591 -37.956903 -84.800778   \n",
       "284805  32.622736  46.685808 -57.103731  19.265872 -32.761766 -84.120857   \n",
       "284806  31.175063  47.589534 -57.935566  19.763236 -43.945663 -84.845535   \n",
       "\n",
       "              p13          p14  Class  \n",
       "0       11.666977   846.710033      0  \n",
       "1       11.836796    25.025335      0  \n",
       "2       11.483291  2127.582986      0  \n",
       "3       12.058619   700.637724      0  \n",
       "4       12.788145   401.390816      0  \n",
       "...           ...          ...    ...  \n",
       "284802  15.676796    14.288014      0  \n",
       "284803  11.512836   148.616377      0  \n",
       "284804  11.640835   389.590948      0  \n",
       "284805  12.263078    65.905449      0  \n",
       "284806  11.831692  1223.522902      0  \n",
       "\n",
       "[284807 rows x 15 columns]"
      ]
     },
     "execution_count": 28,
     "metadata": {},
     "output_type": "execute_result"
    }
   ],
   "source": [
    "dataset"
   ]
  },
  {
   "cell_type": "code",
   "execution_count": 29,
   "id": "ee3c8b14",
   "metadata": {},
   "outputs": [
    {
     "data": {
      "text/plain": [
       "(284807, 15)"
      ]
     },
     "execution_count": 29,
     "metadata": {},
     "output_type": "execute_result"
    }
   ],
   "source": [
    "dataset.shape"
   ]
  },
  {
   "cell_type": "code",
   "execution_count": 30,
   "id": "3fc61d21",
   "metadata": {},
   "outputs": [],
   "source": [
    "x = dataset.iloc[:, :-1].values\n",
    "y = dataset.iloc[:, -1].values"
   ]
  },
  {
   "cell_type": "code",
   "execution_count": 31,
   "id": "3b1461ad",
   "metadata": {},
   "outputs": [
    {
     "name": "stdout",
     "output_type": "stream",
     "text": [
      "[[  78.48202188   52.87198514  -64.91746453 ...  -83.95969688\n",
      "    11.66697749  846.71003275]\n",
      " [  78.37908576   55.05818019  -68.15361935 ...  -84.88832263\n",
      "    11.83679625   25.02533541]\n",
      " [  79.60992192   55.39515406  -61.50613884 ...  -85.1904108\n",
      "    11.48329135 2127.5829864 ]\n",
      " ...\n",
      " [  83.09815938   54.06468252  -65.45730425 ...  -84.80077792\n",
      "    11.6408345   389.59094774]\n",
      " [  82.87654542   52.79712981  -62.99592497 ...  -84.12085707\n",
      "    12.26307847   65.90544932]\n",
      " [  74.59550158   54.05819369  -70.46320297 ...  -84.84553495\n",
      "    11.83169249 1223.52290219]]\n"
     ]
    }
   ],
   "source": [
    "print(x)"
   ]
  },
  {
   "cell_type": "code",
   "execution_count": 32,
   "id": "334d5050",
   "metadata": {},
   "outputs": [
    {
     "name": "stdout",
     "output_type": "stream",
     "text": [
      "[0 0 0 ... 0 0 0]\n"
     ]
    }
   ],
   "source": [
    "print(y)"
   ]
  },
  {
   "cell_type": "markdown",
   "id": "81ba21ca",
   "metadata": {},
   "source": [
    "# Take care of missing data"
   ]
  },
  {
   "cell_type": "code",
   "execution_count": 33,
   "id": "ab6460ca",
   "metadata": {},
   "outputs": [],
   "source": [
    "from sklearn.impute import SimpleImputer\n",
    "imputer = SimpleImputer(missing_values=np.nan, strategy='mean')\n",
    "imputer.fit(x[:, 0:14])\n",
    "x[:, 0:14] = imputer.transform(x[:, 0:14])"
   ]
  },
  {
   "cell_type": "code",
   "execution_count": 34,
   "id": "593aff5b",
   "metadata": {},
   "outputs": [
    {
     "name": "stdout",
     "output_type": "stream",
     "text": [
      "[[  78.48202188   52.87198514  -64.91746453 ...  -83.95969688\n",
      "    11.66697749  846.71003275]\n",
      " [  78.37908576   55.05818019  -68.15361935 ...  -84.88832263\n",
      "    11.83679625   25.02533541]\n",
      " [  79.60992192   55.39515406  -61.50613884 ...  -85.1904108\n",
      "    11.48329135 2127.5829864 ]\n",
      " ...\n",
      " [  83.09815938   54.06468252  -65.45730425 ...  -84.80077792\n",
      "    11.6408345   389.59094774]\n",
      " [  82.87654542   52.79712981  -62.99592497 ...  -84.12085707\n",
      "    12.26307847   65.90544932]\n",
      " [  74.59550158   54.05819369  -70.46320297 ...  -84.84553495\n",
      "    11.83169249 1223.52290219]]\n"
     ]
    }
   ],
   "source": [
    "print(x)"
   ]
  },
  {
   "cell_type": "markdown",
   "id": "16795d19",
   "metadata": {},
   "source": [
    "# Splitting the dataset into the training set and test set"
   ]
  },
  {
   "cell_type": "code",
   "execution_count": 35,
   "id": "24447337",
   "metadata": {},
   "outputs": [],
   "source": [
    "from sklearn.model_selection import train_test_split\n",
    "x_train, x_test, y_train, y_test = train_test_split(x, y, test_size=0.3, random_state=1)"
   ]
  },
  {
   "cell_type": "code",
   "execution_count": 36,
   "id": "ed69a544",
   "metadata": {},
   "outputs": [
    {
     "name": "stdout",
     "output_type": "stream",
     "text": [
      "[[ 84.51078462  53.71413034 -71.23976259 ... -84.8984747   11.87227673\n",
      "   90.34403999]\n",
      " [ 76.40268396  54.8867908  -73.66229813 ... -85.45376052  11.9463948\n",
      "   60.31309448]\n",
      " [ 77.42637309  53.97042892 -72.2777221  ... -85.28083181  11.54771745\n",
      "   21.05476347]\n",
      " ...\n",
      " [ 82.19219775  53.90071672 -71.97743022 ... -85.8854966   11.91496555\n",
      "   52.3719506 ]\n",
      " [ 79.27103989  56.20499161 -70.64158461 ... -84.86793014  11.67376971\n",
      "  540.13714016]\n",
      " [ 78.29922243  54.81845865 -77.14287241 ... -87.34182308  10.79106674\n",
      "  333.2200109 ]]\n"
     ]
    }
   ],
   "source": [
    "print(x_train)"
   ]
  },
  {
   "cell_type": "code",
   "execution_count": 37,
   "id": "944d4a48",
   "metadata": {},
   "outputs": [
    {
     "name": "stdout",
     "output_type": "stream",
     "text": [
      "[[ 73.77504132  55.24623973 -72.98889052 ... -84.39655824  12.81674929\n",
      "   19.99221605]\n",
      " [ 81.03552054  55.48616274 -66.91962378 ... -83.77162212  12.04911976\n",
      "   21.05476347]\n",
      " [ 77.24293229  56.01031117 -67.27725348 ... -83.2072968   12.20603802\n",
      "   14.95909669]\n",
      " ...\n",
      " [ 76.66595275  57.31624259 -67.20815491 ... -84.64667571  11.55071863\n",
      "   95.04161806]\n",
      " [ 78.03936632  56.29932157 -69.1561846  ... -84.95284708  11.56441404\n",
      "  177.69662267]\n",
      " [ 78.56836876  51.72154476 -64.29463077 ... -84.9924216   11.8834892\n",
      "  423.64838874]]\n"
     ]
    }
   ],
   "source": [
    "print(x_test)"
   ]
  },
  {
   "cell_type": "code",
   "execution_count": 38,
   "id": "36afd0c5",
   "metadata": {},
   "outputs": [
    {
     "name": "stdout",
     "output_type": "stream",
     "text": [
      "[0 0 0 ... 0 0 0]\n"
     ]
    }
   ],
   "source": [
    "print(y_train)"
   ]
  },
  {
   "cell_type": "code",
   "execution_count": 39,
   "id": "e8908f1d",
   "metadata": {},
   "outputs": [
    {
     "name": "stdout",
     "output_type": "stream",
     "text": [
      "[0 0 0 ... 0 0 0]\n"
     ]
    }
   ],
   "source": [
    "print(y_test)"
   ]
  },
  {
   "cell_type": "markdown",
   "id": "ce6a231e",
   "metadata": {},
   "source": [
    "# Feature Scaling"
   ]
  },
  {
   "cell_type": "code",
   "execution_count": 40,
   "id": "8126cbd6",
   "metadata": {},
   "outputs": [
    {
     "ename": "ValueError",
     "evalue": "Found array with 0 feature(s) (shape=(199364, 0)) while a minimum of 1 is required by StandardScaler.",
     "output_type": "error",
     "traceback": [
      "\u001b[0;31m---------------------------------------------------------------------------\u001b[0m",
      "\u001b[0;31mValueError\u001b[0m                                Traceback (most recent call last)",
      "\u001b[0;32m/tmp/ipykernel_10809/368511274.py\u001b[0m in \u001b[0;36m<module>\u001b[0;34m\u001b[0m\n\u001b[1;32m      1\u001b[0m \u001b[0;32mfrom\u001b[0m \u001b[0msklearn\u001b[0m\u001b[0;34m.\u001b[0m\u001b[0mpreprocessing\u001b[0m \u001b[0;32mimport\u001b[0m \u001b[0mStandardScaler\u001b[0m\u001b[0;34m\u001b[0m\u001b[0;34m\u001b[0m\u001b[0m\n\u001b[1;32m      2\u001b[0m \u001b[0msc\u001b[0m \u001b[0;34m=\u001b[0m \u001b[0mStandardScaler\u001b[0m\u001b[0;34m(\u001b[0m\u001b[0;34m)\u001b[0m\u001b[0;34m\u001b[0m\u001b[0;34m\u001b[0m\u001b[0m\n\u001b[0;32m----> 3\u001b[0;31m \u001b[0mx_train\u001b[0m\u001b[0;34m[\u001b[0m\u001b[0;34m:\u001b[0m\u001b[0;34m,\u001b[0m \u001b[0;36m14\u001b[0m\u001b[0;34m:\u001b[0m\u001b[0;34m]\u001b[0m \u001b[0;34m=\u001b[0m \u001b[0msc\u001b[0m\u001b[0;34m.\u001b[0m\u001b[0mfit_transform\u001b[0m\u001b[0;34m(\u001b[0m\u001b[0mx_train\u001b[0m\u001b[0;34m[\u001b[0m\u001b[0;34m:\u001b[0m\u001b[0;34m,\u001b[0m \u001b[0;36m14\u001b[0m\u001b[0;34m:\u001b[0m\u001b[0;34m]\u001b[0m\u001b[0;34m)\u001b[0m\u001b[0;34m\u001b[0m\u001b[0;34m\u001b[0m\u001b[0m\n\u001b[0m\u001b[1;32m      4\u001b[0m \u001b[0mx_test\u001b[0m\u001b[0;34m[\u001b[0m\u001b[0;34m:\u001b[0m\u001b[0;34m,\u001b[0m \u001b[0;36m14\u001b[0m\u001b[0;34m:\u001b[0m\u001b[0;34m]\u001b[0m \u001b[0;34m=\u001b[0m \u001b[0msc\u001b[0m\u001b[0;34m.\u001b[0m\u001b[0mtransform\u001b[0m\u001b[0;34m(\u001b[0m\u001b[0mx_test\u001b[0m\u001b[0;34m[\u001b[0m\u001b[0;34m:\u001b[0m\u001b[0;34m,\u001b[0m \u001b[0;36m14\u001b[0m\u001b[0;34m:\u001b[0m\u001b[0;34m]\u001b[0m\u001b[0;34m)\u001b[0m\u001b[0;34m\u001b[0m\u001b[0;34m\u001b[0m\u001b[0m\n",
      "\u001b[0;32m~/anaconda3/envs/pytorch/lib/python3.9/site-packages/sklearn/base.py\u001b[0m in \u001b[0;36mfit_transform\u001b[0;34m(self, X, y, **fit_params)\u001b[0m\n\u001b[1;32m    850\u001b[0m         \u001b[0;32mif\u001b[0m \u001b[0my\u001b[0m \u001b[0;32mis\u001b[0m \u001b[0;32mNone\u001b[0m\u001b[0;34m:\u001b[0m\u001b[0;34m\u001b[0m\u001b[0;34m\u001b[0m\u001b[0m\n\u001b[1;32m    851\u001b[0m             \u001b[0;31m# fit method of arity 1 (unsupervised transformation)\u001b[0m\u001b[0;34m\u001b[0m\u001b[0;34m\u001b[0m\u001b[0m\n\u001b[0;32m--> 852\u001b[0;31m             \u001b[0;32mreturn\u001b[0m \u001b[0mself\u001b[0m\u001b[0;34m.\u001b[0m\u001b[0mfit\u001b[0m\u001b[0;34m(\u001b[0m\u001b[0mX\u001b[0m\u001b[0;34m,\u001b[0m \u001b[0;34m**\u001b[0m\u001b[0mfit_params\u001b[0m\u001b[0;34m)\u001b[0m\u001b[0;34m.\u001b[0m\u001b[0mtransform\u001b[0m\u001b[0;34m(\u001b[0m\u001b[0mX\u001b[0m\u001b[0;34m)\u001b[0m\u001b[0;34m\u001b[0m\u001b[0;34m\u001b[0m\u001b[0m\n\u001b[0m\u001b[1;32m    853\u001b[0m         \u001b[0;32melse\u001b[0m\u001b[0;34m:\u001b[0m\u001b[0;34m\u001b[0m\u001b[0;34m\u001b[0m\u001b[0m\n\u001b[1;32m    854\u001b[0m             \u001b[0;31m# fit method of arity 2 (supervised transformation)\u001b[0m\u001b[0;34m\u001b[0m\u001b[0;34m\u001b[0m\u001b[0m\n",
      "\u001b[0;32m~/anaconda3/envs/pytorch/lib/python3.9/site-packages/sklearn/preprocessing/_data.py\u001b[0m in \u001b[0;36mfit\u001b[0;34m(self, X, y, sample_weight)\u001b[0m\n\u001b[1;32m    804\u001b[0m         \u001b[0;31m# Reset internal state before fitting\u001b[0m\u001b[0;34m\u001b[0m\u001b[0;34m\u001b[0m\u001b[0m\n\u001b[1;32m    805\u001b[0m         \u001b[0mself\u001b[0m\u001b[0;34m.\u001b[0m\u001b[0m_reset\u001b[0m\u001b[0;34m(\u001b[0m\u001b[0;34m)\u001b[0m\u001b[0;34m\u001b[0m\u001b[0;34m\u001b[0m\u001b[0m\n\u001b[0;32m--> 806\u001b[0;31m         \u001b[0;32mreturn\u001b[0m \u001b[0mself\u001b[0m\u001b[0;34m.\u001b[0m\u001b[0mpartial_fit\u001b[0m\u001b[0;34m(\u001b[0m\u001b[0mX\u001b[0m\u001b[0;34m,\u001b[0m \u001b[0my\u001b[0m\u001b[0;34m,\u001b[0m \u001b[0msample_weight\u001b[0m\u001b[0;34m)\u001b[0m\u001b[0;34m\u001b[0m\u001b[0;34m\u001b[0m\u001b[0m\n\u001b[0m\u001b[1;32m    807\u001b[0m \u001b[0;34m\u001b[0m\u001b[0m\n\u001b[1;32m    808\u001b[0m     \u001b[0;32mdef\u001b[0m \u001b[0mpartial_fit\u001b[0m\u001b[0;34m(\u001b[0m\u001b[0mself\u001b[0m\u001b[0;34m,\u001b[0m \u001b[0mX\u001b[0m\u001b[0;34m,\u001b[0m \u001b[0my\u001b[0m\u001b[0;34m=\u001b[0m\u001b[0;32mNone\u001b[0m\u001b[0;34m,\u001b[0m \u001b[0msample_weight\u001b[0m\u001b[0;34m=\u001b[0m\u001b[0;32mNone\u001b[0m\u001b[0;34m)\u001b[0m\u001b[0;34m:\u001b[0m\u001b[0;34m\u001b[0m\u001b[0;34m\u001b[0m\u001b[0m\n",
      "\u001b[0;32m~/anaconda3/envs/pytorch/lib/python3.9/site-packages/sklearn/preprocessing/_data.py\u001b[0m in \u001b[0;36mpartial_fit\u001b[0;34m(self, X, y, sample_weight)\u001b[0m\n\u001b[1;32m    839\u001b[0m         \"\"\"\n\u001b[1;32m    840\u001b[0m         \u001b[0mfirst_call\u001b[0m \u001b[0;34m=\u001b[0m \u001b[0;32mnot\u001b[0m \u001b[0mhasattr\u001b[0m\u001b[0;34m(\u001b[0m\u001b[0mself\u001b[0m\u001b[0;34m,\u001b[0m \u001b[0;34m\"n_samples_seen_\"\u001b[0m\u001b[0;34m)\u001b[0m\u001b[0;34m\u001b[0m\u001b[0;34m\u001b[0m\u001b[0m\n\u001b[0;32m--> 841\u001b[0;31m         X = self._validate_data(\n\u001b[0m\u001b[1;32m    842\u001b[0m             \u001b[0mX\u001b[0m\u001b[0;34m,\u001b[0m\u001b[0;34m\u001b[0m\u001b[0;34m\u001b[0m\u001b[0m\n\u001b[1;32m    843\u001b[0m             \u001b[0maccept_sparse\u001b[0m\u001b[0;34m=\u001b[0m\u001b[0;34m(\u001b[0m\u001b[0;34m\"csr\"\u001b[0m\u001b[0;34m,\u001b[0m \u001b[0;34m\"csc\"\u001b[0m\u001b[0;34m)\u001b[0m\u001b[0;34m,\u001b[0m\u001b[0;34m\u001b[0m\u001b[0;34m\u001b[0m\u001b[0m\n",
      "\u001b[0;32m~/anaconda3/envs/pytorch/lib/python3.9/site-packages/sklearn/base.py\u001b[0m in \u001b[0;36m_validate_data\u001b[0;34m(self, X, y, reset, validate_separately, **check_params)\u001b[0m\n\u001b[1;32m    564\u001b[0m             \u001b[0;32mraise\u001b[0m \u001b[0mValueError\u001b[0m\u001b[0;34m(\u001b[0m\u001b[0;34m\"Validation should be done on X, y or both.\"\u001b[0m\u001b[0;34m)\u001b[0m\u001b[0;34m\u001b[0m\u001b[0;34m\u001b[0m\u001b[0m\n\u001b[1;32m    565\u001b[0m         \u001b[0;32melif\u001b[0m \u001b[0;32mnot\u001b[0m \u001b[0mno_val_X\u001b[0m \u001b[0;32mand\u001b[0m \u001b[0mno_val_y\u001b[0m\u001b[0;34m:\u001b[0m\u001b[0;34m\u001b[0m\u001b[0;34m\u001b[0m\u001b[0m\n\u001b[0;32m--> 566\u001b[0;31m             \u001b[0mX\u001b[0m \u001b[0;34m=\u001b[0m \u001b[0mcheck_array\u001b[0m\u001b[0;34m(\u001b[0m\u001b[0mX\u001b[0m\u001b[0;34m,\u001b[0m \u001b[0;34m**\u001b[0m\u001b[0mcheck_params\u001b[0m\u001b[0;34m)\u001b[0m\u001b[0;34m\u001b[0m\u001b[0;34m\u001b[0m\u001b[0m\n\u001b[0m\u001b[1;32m    567\u001b[0m             \u001b[0mout\u001b[0m \u001b[0;34m=\u001b[0m \u001b[0mX\u001b[0m\u001b[0;34m\u001b[0m\u001b[0;34m\u001b[0m\u001b[0m\n\u001b[1;32m    568\u001b[0m         \u001b[0;32melif\u001b[0m \u001b[0mno_val_X\u001b[0m \u001b[0;32mand\u001b[0m \u001b[0;32mnot\u001b[0m \u001b[0mno_val_y\u001b[0m\u001b[0;34m:\u001b[0m\u001b[0;34m\u001b[0m\u001b[0;34m\u001b[0m\u001b[0m\n",
      "\u001b[0;32m~/anaconda3/envs/pytorch/lib/python3.9/site-packages/sklearn/utils/validation.py\u001b[0m in \u001b[0;36mcheck_array\u001b[0;34m(array, accept_sparse, accept_large_sparse, dtype, order, copy, force_all_finite, ensure_2d, allow_nd, ensure_min_samples, ensure_min_features, estimator)\u001b[0m\n\u001b[1;32m    812\u001b[0m         \u001b[0mn_features\u001b[0m \u001b[0;34m=\u001b[0m \u001b[0marray\u001b[0m\u001b[0;34m.\u001b[0m\u001b[0mshape\u001b[0m\u001b[0;34m[\u001b[0m\u001b[0;36m1\u001b[0m\u001b[0;34m]\u001b[0m\u001b[0;34m\u001b[0m\u001b[0;34m\u001b[0m\u001b[0m\n\u001b[1;32m    813\u001b[0m         \u001b[0;32mif\u001b[0m \u001b[0mn_features\u001b[0m \u001b[0;34m<\u001b[0m \u001b[0mensure_min_features\u001b[0m\u001b[0;34m:\u001b[0m\u001b[0;34m\u001b[0m\u001b[0;34m\u001b[0m\u001b[0m\n\u001b[0;32m--> 814\u001b[0;31m             raise ValueError(\n\u001b[0m\u001b[1;32m    815\u001b[0m                 \u001b[0;34m\"Found array with %d feature(s) (shape=%s) while\"\u001b[0m\u001b[0;34m\u001b[0m\u001b[0;34m\u001b[0m\u001b[0m\n\u001b[1;32m    816\u001b[0m                 \u001b[0;34m\" a minimum of %d is required%s.\"\u001b[0m\u001b[0;34m\u001b[0m\u001b[0;34m\u001b[0m\u001b[0m\n",
      "\u001b[0;31mValueError\u001b[0m: Found array with 0 feature(s) (shape=(199364, 0)) while a minimum of 1 is required by StandardScaler."
     ]
    }
   ],
   "source": [
    "from sklearn.preprocessing import StandardScaler\n",
    "sc = StandardScaler()\n",
    "x_train[:, 14:] = sc.fit_transform(x_train[:, 14:])\n",
    "x_test[:, 14:] = sc.transform(x_test[:, 14:])"
   ]
  },
  {
   "cell_type": "code",
   "execution_count": 41,
   "id": "449adc9a",
   "metadata": {},
   "outputs": [
    {
     "name": "stdout",
     "output_type": "stream",
     "text": [
      "[[ 84.51078462  53.71413034 -71.23976259 ... -84.8984747   11.87227673\n",
      "   90.34403999]\n",
      " [ 76.40268396  54.8867908  -73.66229813 ... -85.45376052  11.9463948\n",
      "   60.31309448]\n",
      " [ 77.42637309  53.97042892 -72.2777221  ... -85.28083181  11.54771745\n",
      "   21.05476347]\n",
      " ...\n",
      " [ 82.19219775  53.90071672 -71.97743022 ... -85.8854966   11.91496555\n",
      "   52.3719506 ]\n",
      " [ 79.27103989  56.20499161 -70.64158461 ... -84.86793014  11.67376971\n",
      "  540.13714016]\n",
      " [ 78.29922243  54.81845865 -77.14287241 ... -87.34182308  10.79106674\n",
      "  333.2200109 ]]\n"
     ]
    }
   ],
   "source": [
    "print(x_train)"
   ]
  },
  {
   "cell_type": "code",
   "execution_count": 42,
   "id": "0cafcb24",
   "metadata": {},
   "outputs": [
    {
     "name": "stdout",
     "output_type": "stream",
     "text": [
      "[[ 73.77504132  55.24623973 -72.98889052 ... -84.39655824  12.81674929\n",
      "   19.99221605]\n",
      " [ 81.03552054  55.48616274 -66.91962378 ... -83.77162212  12.04911976\n",
      "   21.05476347]\n",
      " [ 77.24293229  56.01031117 -67.27725348 ... -83.2072968   12.20603802\n",
      "   14.95909669]\n",
      " ...\n",
      " [ 76.66595275  57.31624259 -67.20815491 ... -84.64667571  11.55071863\n",
      "   95.04161806]\n",
      " [ 78.03936632  56.29932157 -69.1561846  ... -84.95284708  11.56441404\n",
      "  177.69662267]\n",
      " [ 78.56836876  51.72154476 -64.29463077 ... -84.9924216   11.8834892\n",
      "  423.64838874]]\n"
     ]
    }
   ],
   "source": [
    "print(x_test)"
   ]
  },
  {
   "cell_type": "code",
   "execution_count": null,
   "id": "3d7c4a10",
   "metadata": {},
   "outputs": [],
   "source": []
  }
 ],
 "metadata": {
  "kernelspec": {
   "display_name": "Python 3",
   "language": "python",
   "name": "python3"
  },
  "language_info": {
   "codemirror_mode": {
    "name": "ipython",
    "version": 3
   },
   "file_extension": ".py",
   "mimetype": "text/x-python",
   "name": "python",
   "nbconvert_exporter": "python",
   "pygments_lexer": "ipython3",
   "version": "3.9.7"
  }
 },
 "nbformat": 4,
 "nbformat_minor": 5
}

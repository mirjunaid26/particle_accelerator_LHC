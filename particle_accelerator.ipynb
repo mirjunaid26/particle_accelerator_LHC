{
 "cells": [
  {
   "cell_type": "markdown",
   "id": "79798a26",
   "metadata": {},
   "source": [
    "# Supervised Machine Learning Solution"
   ]
  },
  {
   "cell_type": "code",
   "execution_count": 11,
   "id": "1021adb0",
   "metadata": {},
   "outputs": [],
   "source": [
    "# import the necessary libraries\n",
    "\n",
    "import os \n",
    "import warnings\n",
    "import numpy as np\n",
    "import pandas as pd\n",
    "from tqdm.notebook import tqdm\n",
    "import matplotlib.pyplot as plt"
   ]
  },
  {
   "cell_type": "code",
   "execution_count": 12,
   "id": "c54b6387",
   "metadata": {},
   "outputs": [],
   "source": [
    "# import sklearn models\n",
    "\n",
    "from sklearn import svm\n",
    "from sklearn.tree import DecisionTreeClassifier\n",
    "from sklearn.neighbors import KNeighborsClassifier\n",
    "from sklearn.ensemble import RandomForestClassifier\n",
    "\n",
    "from sklearn.preprocessing import StandardScaler\n",
    "from sklearn.linear_model import LogisticRegression\n",
    "from sklearn.model_selection import train_test_split\n",
    "from sklearn.metrics import (accuracy_score, precision_score, \n",
    "                             recall_score, roc_auc_score, plot_confusion_matrix,\n",
    "                             precision_recall_curve, roc_curve)"
   ]
  },
  {
   "cell_type": "code",
   "execution_count": 13,
   "id": "72a61fa8",
   "metadata": {},
   "outputs": [],
   "source": [
    "# import imblearn to deal with unbalanced classes\n",
    "from imblearn.ensemble import BalancedBaggingClassifier"
   ]
  },
  {
   "cell_type": "code",
   "execution_count": 14,
   "id": "89e67046",
   "metadata": {},
   "outputs": [],
   "source": [
    "warnings.filterwarnings(\"ignore\")"
   ]
  },
  {
   "cell_type": "markdown",
   "id": "54e50d93",
   "metadata": {},
   "source": [
    "## Import the Dataset"
   ]
  },
  {
   "cell_type": "code",
   "execution_count": 15,
   "id": "906ca74b",
   "metadata": {},
   "outputs": [],
   "source": [
    "data = pd.read_csv('new_physics_signal.csv')"
   ]
  },
  {
   "cell_type": "code",
   "execution_count": 16,
   "id": "4b6c8bf4",
   "metadata": {},
   "outputs": [
    {
     "data": {
      "text/html": [
       "<div>\n",
       "<style scoped>\n",
       "    .dataframe tbody tr th:only-of-type {\n",
       "        vertical-align: middle;\n",
       "    }\n",
       "\n",
       "    .dataframe tbody tr th {\n",
       "        vertical-align: top;\n",
       "    }\n",
       "\n",
       "    .dataframe thead th {\n",
       "        text-align: right;\n",
       "    }\n",
       "</style>\n",
       "<table border=\"1\" class=\"dataframe\">\n",
       "  <thead>\n",
       "    <tr style=\"text-align: right;\">\n",
       "      <th></th>\n",
       "      <th>p1</th>\n",
       "      <th>p2</th>\n",
       "      <th>p3</th>\n",
       "      <th>p4</th>\n",
       "      <th>p5</th>\n",
       "      <th>p6</th>\n",
       "      <th>p7</th>\n",
       "      <th>p8</th>\n",
       "      <th>p9</th>\n",
       "      <th>p10</th>\n",
       "      <th>p11</th>\n",
       "      <th>p12</th>\n",
       "      <th>p13</th>\n",
       "      <th>p14</th>\n",
       "      <th>Class</th>\n",
       "    </tr>\n",
       "  </thead>\n",
       "  <tbody>\n",
       "    <tr>\n",
       "      <th>0</th>\n",
       "      <td>78.482022</td>\n",
       "      <td>52.871985</td>\n",
       "      <td>-64.917465</td>\n",
       "      <td>-78.448475</td>\n",
       "      <td>-57.987246</td>\n",
       "      <td>-92.520585</td>\n",
       "      <td>27.806597</td>\n",
       "      <td>46.774201</td>\n",
       "      <td>-57.512910</td>\n",
       "      <td>22.899098</td>\n",
       "      <td>-38.790567</td>\n",
       "      <td>-83.959697</td>\n",
       "      <td>11.666977</td>\n",
       "      <td>846.710033</td>\n",
       "      <td>0</td>\n",
       "    </tr>\n",
       "    <tr>\n",
       "      <th>1</th>\n",
       "      <td>78.379086</td>\n",
       "      <td>55.058180</td>\n",
       "      <td>-68.153619</td>\n",
       "      <td>-82.693368</td>\n",
       "      <td>-59.561586</td>\n",
       "      <td>-93.335494</td>\n",
       "      <td>19.354007</td>\n",
       "      <td>47.128549</td>\n",
       "      <td>-60.470478</td>\n",
       "      <td>23.100267</td>\n",
       "      <td>-36.209469</td>\n",
       "      <td>-84.888323</td>\n",
       "      <td>11.836796</td>\n",
       "      <td>25.025335</td>\n",
       "      <td>0</td>\n",
       "    </tr>\n",
       "    <tr>\n",
       "      <th>2</th>\n",
       "      <td>79.609922</td>\n",
       "      <td>55.395154</td>\n",
       "      <td>-61.506139</td>\n",
       "      <td>-99.031856</td>\n",
       "      <td>-56.643424</td>\n",
       "      <td>-91.474574</td>\n",
       "      <td>32.361097</td>\n",
       "      <td>48.480810</td>\n",
       "      <td>-63.011139</td>\n",
       "      <td>20.523559</td>\n",
       "      <td>-38.380731</td>\n",
       "      <td>-85.190411</td>\n",
       "      <td>11.483291</td>\n",
       "      <td>2127.582986</td>\n",
       "      <td>0</td>\n",
       "    </tr>\n",
       "    <tr>\n",
       "      <th>3</th>\n",
       "      <td>80.592326</td>\n",
       "      <td>55.085738</td>\n",
       "      <td>-73.077999</td>\n",
       "      <td>-91.084996</td>\n",
       "      <td>-60.244160</td>\n",
       "      <td>-92.874068</td>\n",
       "      <td>25.292852</td>\n",
       "      <td>46.640591</td>\n",
       "      <td>-66.546879</td>\n",
       "      <td>25.600912</td>\n",
       "      <td>-39.059436</td>\n",
       "      <td>-84.421174</td>\n",
       "      <td>12.058619</td>\n",
       "      <td>700.637724</td>\n",
       "      <td>0</td>\n",
       "    </tr>\n",
       "    <tr>\n",
       "      <th>4</th>\n",
       "      <td>75.686606</td>\n",
       "      <td>56.323331</td>\n",
       "      <td>-69.943208</td>\n",
       "      <td>-75.363929</td>\n",
       "      <td>-57.215389</td>\n",
       "      <td>-92.485721</td>\n",
       "      <td>32.606410</td>\n",
       "      <td>46.729047</td>\n",
       "      <td>-56.972408</td>\n",
       "      <td>21.156952</td>\n",
       "      <td>-33.125372</td>\n",
       "      <td>-83.400313</td>\n",
       "      <td>12.788145</td>\n",
       "      <td>401.390816</td>\n",
       "      <td>0</td>\n",
       "    </tr>\n",
       "  </tbody>\n",
       "</table>\n",
       "</div>"
      ],
      "text/plain": [
       "          p1         p2         p3         p4         p5         p6  \\\n",
       "0  78.482022  52.871985 -64.917465 -78.448475 -57.987246 -92.520585   \n",
       "1  78.379086  55.058180 -68.153619 -82.693368 -59.561586 -93.335494   \n",
       "2  79.609922  55.395154 -61.506139 -99.031856 -56.643424 -91.474574   \n",
       "3  80.592326  55.085738 -73.077999 -91.084996 -60.244160 -92.874068   \n",
       "4  75.686606  56.323331 -69.943208 -75.363929 -57.215389 -92.485721   \n",
       "\n",
       "          p7         p8         p9        p10        p11        p12  \\\n",
       "0  27.806597  46.774201 -57.512910  22.899098 -38.790567 -83.959697   \n",
       "1  19.354007  47.128549 -60.470478  23.100267 -36.209469 -84.888323   \n",
       "2  32.361097  48.480810 -63.011139  20.523559 -38.380731 -85.190411   \n",
       "3  25.292852  46.640591 -66.546879  25.600912 -39.059436 -84.421174   \n",
       "4  32.606410  46.729047 -56.972408  21.156952 -33.125372 -83.400313   \n",
       "\n",
       "         p13          p14  Class  \n",
       "0  11.666977   846.710033      0  \n",
       "1  11.836796    25.025335      0  \n",
       "2  11.483291  2127.582986      0  \n",
       "3  12.058619   700.637724      0  \n",
       "4  12.788145   401.390816      0  "
      ]
     },
     "execution_count": 16,
     "metadata": {},
     "output_type": "execute_result"
    }
   ],
   "source": [
    "# print first 5 rows to have a brief look on the dataset\n",
    "data.head()"
   ]
  },
  {
   "cell_type": "markdown",
   "id": "1712310b",
   "metadata": {},
   "source": [
    "## Data Preprocessing"
   ]
  },
  {
   "cell_type": "code",
   "execution_count": 17,
   "id": "f749613c",
   "metadata": {},
   "outputs": [
    {
     "data": {
      "text/plain": [
       "p1       5\n",
       "p2       5\n",
       "p3       5\n",
       "p4       5\n",
       "p5       5\n",
       "p6       5\n",
       "p7       5\n",
       "p8       5\n",
       "p9       5\n",
       "p10      5\n",
       "p11      5\n",
       "p12      5\n",
       "p13      5\n",
       "p14      5\n",
       "Class    0\n",
       "dtype: int64"
      ]
     },
     "execution_count": 17,
     "metadata": {},
     "output_type": "execute_result"
    }
   ],
   "source": [
    "# check null values\n",
    "data.isnull().sum()"
   ]
  },
  {
   "cell_type": "code",
   "execution_count": 18,
   "id": "6bd2420b",
   "metadata": {},
   "outputs": [
    {
     "data": {
      "text/plain": [
       "p1       0\n",
       "p2       0\n",
       "p3       0\n",
       "p4       0\n",
       "p5       0\n",
       "p6       0\n",
       "p7       0\n",
       "p8       0\n",
       "p9       0\n",
       "p10      0\n",
       "p11      0\n",
       "p12      0\n",
       "p13      0\n",
       "p14      0\n",
       "Class    0\n",
       "dtype: int64"
      ]
     },
     "execution_count": 18,
     "metadata": {},
     "output_type": "execute_result"
    }
   ],
   "source": [
    "# remove the values containing null\n",
    "data = data.dropna()\n",
    "data.isnull().sum()"
   ]
  },
  {
   "cell_type": "code",
   "execution_count": 19,
   "id": "c78414ae",
   "metadata": {},
   "outputs": [
    {
     "data": {
      "text/plain": [
       "0    284245\n",
       "1       492\n",
       "Name: Class, dtype: int64"
      ]
     },
     "execution_count": 19,
     "metadata": {},
     "output_type": "execute_result"
    }
   ],
   "source": [
    "# count classes present in the dataset\n",
    "data['Class'].value_counts()"
   ]
  },
  {
   "cell_type": "code",
   "execution_count": 20,
   "id": "313b5098",
   "metadata": {},
   "outputs": [],
   "source": [
    "\"\"\"\n",
    "As we can see that there are 492 datapoints with class value 1 and other 284245 is 0, which is unbalanced\n",
    "and makes the model a bit overfitted and biased for class 0\n",
    "\n",
    "Balancing the unbalanced data by randomly sampling the class with more datapoints. We took 600 random sampled \n",
    "datapoints from class 0 and keeping all the 423 number of datapoints for class 1. So that it is kept balanced. \n",
    "(however, I did't use the same technique for the previous notebook, in order to see the model performance)\n",
    "\n",
    "This step is to deal with the bias-variance trade-off.\n",
    "\"\"\"\n",
    "shuffled = data.sample(frac=1, random_state=4)\n",
    "data_zero = shuffled.loc[shuffled['Class'] == 0].sample(n=600, random_state = 123)\n",
    "data_one = shuffled.loc[shuffled['Class'] == 1]\n",
    "\n",
    "data_sampled_concated = pd.concat([data_zero, data_one]).sample(frac=1, random_state=4)\n",
    "data_sampled_concated = data_sampled_concated.reset_index(drop=True)\n",
    "data = data_sampled_concated"
   ]
  },
  {
   "cell_type": "code",
   "execution_count": 21,
   "id": "e0eb0f23",
   "metadata": {},
   "outputs": [],
   "source": [
    "\"\"\"\n",
    "x = Taking all the rows and columns (not the last)\n",
    "y = Taking all the rows but just the last column\n",
    "\"\"\"\n",
    "\n",
    "data_x = data.iloc[:, :-1]\n",
    "data_y = data.iloc[:, -1:]"
   ]
  },
  {
   "cell_type": "markdown",
   "id": "c12edf83",
   "metadata": {},
   "source": [
    "## Scaling and splitting the dataset into the training set and test set"
   ]
  },
  {
   "cell_type": "code",
   "execution_count": null,
   "id": "46a0b487",
   "metadata": {},
   "outputs": [],
   "source": []
  },
  {
   "cell_type": "code",
   "execution_count": null,
   "id": "84378152",
   "metadata": {},
   "outputs": [],
   "source": []
  },
  {
   "cell_type": "code",
   "execution_count": null,
   "id": "9bcdc068",
   "metadata": {},
   "outputs": [],
   "source": []
  },
  {
   "cell_type": "code",
   "execution_count": null,
   "id": "901e579a",
   "metadata": {},
   "outputs": [],
   "source": [
    "data = pd.read_csv('new_physics_signal.csv')"
   ]
  },
  {
   "cell_type": "code",
   "execution_count": null,
   "id": "793dfe01",
   "metadata": {},
   "outputs": [],
   "source": [
    "data.head()"
   ]
  },
  {
   "cell_type": "code",
   "execution_count": null,
   "id": "7109ec93",
   "metadata": {},
   "outputs": [],
   "source": [
    "data.shape"
   ]
  },
  {
   "cell_type": "code",
   "execution_count": null,
   "id": "277b4be7",
   "metadata": {},
   "outputs": [],
   "source": [
    "data['Class'].value_counts()"
   ]
  },
  {
   "cell_type": "code",
   "execution_count": null,
   "id": "1408e734",
   "metadata": {},
   "outputs": [],
   "source": [
    "data.isnull().sum() #check null values"
   ]
  },
  {
   "cell_type": "code",
   "execution_count": null,
   "id": "4573489e",
   "metadata": {},
   "outputs": [],
   "source": [
    "# remove null values\n",
    "data = data.dropna()\n",
    "data.isnull().sum()"
   ]
  },
  {
   "cell_type": "code",
   "execution_count": null,
   "id": "07cae987",
   "metadata": {},
   "outputs": [],
   "source": [
    "data_x = data.iloc[:, :-1]\n",
    "data_y = data.iloc[:, -1:]"
   ]
  },
  {
   "cell_type": "code",
   "execution_count": null,
   "id": "6c64571a",
   "metadata": {},
   "outputs": [],
   "source": []
  },
  {
   "cell_type": "code",
   "execution_count": null,
   "id": "f4ed2e6c",
   "metadata": {},
   "outputs": [],
   "source": []
  },
  {
   "cell_type": "code",
   "execution_count": null,
   "id": "0ba4f2bd",
   "metadata": {},
   "outputs": [],
   "source": [
    "x = dataset.iloc[:, :-1].values\n",
    "y = dataset.iloc[:, -1].values"
   ]
  },
  {
   "cell_type": "code",
   "execution_count": null,
   "id": "2001917f",
   "metadata": {},
   "outputs": [],
   "source": [
    "print(x)"
   ]
  },
  {
   "cell_type": "code",
   "execution_count": null,
   "id": "5c3a3023",
   "metadata": {},
   "outputs": [],
   "source": [
    "print(y)"
   ]
  },
  {
   "cell_type": "markdown",
   "id": "97d3be9f",
   "metadata": {},
   "source": [
    "# Take care of missing data"
   ]
  },
  {
   "cell_type": "code",
   "execution_count": null,
   "id": "3d20d1ea",
   "metadata": {},
   "outputs": [],
   "source": [
    "from sklearn.impute import SimpleImputer\n",
    "imputer = SimpleImputer(missing_values=np.nan, strategy='mean')\n",
    "imputer.fit(x[:, 0:14])\n",
    "x[:, 0:14] = imputer.transform(x[:, 0:14])"
   ]
  },
  {
   "cell_type": "code",
   "execution_count": null,
   "id": "c83797e6",
   "metadata": {},
   "outputs": [],
   "source": [
    "print(x)"
   ]
  },
  {
   "cell_type": "markdown",
   "id": "60c846f2",
   "metadata": {},
   "source": [
    "# Splitting the dataset into the training set and test set"
   ]
  },
  {
   "cell_type": "code",
   "execution_count": null,
   "id": "eff49b6a",
   "metadata": {},
   "outputs": [],
   "source": [
    "from sklearn.model_selection import train_test_split\n",
    "x_train, x_test, y_train, y_test = train_test_split(x, y, test_size=0.3, random_state=1)"
   ]
  },
  {
   "cell_type": "code",
   "execution_count": null,
   "id": "0a66e0bc",
   "metadata": {},
   "outputs": [],
   "source": [
    "print(x_train)"
   ]
  },
  {
   "cell_type": "code",
   "execution_count": null,
   "id": "4b679c3d",
   "metadata": {},
   "outputs": [],
   "source": [
    "print(x_test)"
   ]
  },
  {
   "cell_type": "code",
   "execution_count": null,
   "id": "cd453792",
   "metadata": {},
   "outputs": [],
   "source": [
    "print(y_train)"
   ]
  },
  {
   "cell_type": "code",
   "execution_count": null,
   "id": "8d740209",
   "metadata": {},
   "outputs": [],
   "source": [
    "print(y_test)"
   ]
  },
  {
   "cell_type": "markdown",
   "id": "d5fd99a5",
   "metadata": {},
   "source": [
    "# Feature Scaling"
   ]
  },
  {
   "cell_type": "code",
   "execution_count": null,
   "id": "46563360",
   "metadata": {},
   "outputs": [],
   "source": [
    "from sklearn.preprocessing import StandardScaler\n",
    "sc = StandardScaler()\n",
    "x_train[:, 14:] = sc.fit_transform(x_train[:, 14:])\n",
    "x_test[:, 14:] = sc.transform(x_test[:, 14:])"
   ]
  },
  {
   "cell_type": "code",
   "execution_count": null,
   "id": "5036379e",
   "metadata": {},
   "outputs": [],
   "source": [
    "print(x_train)"
   ]
  },
  {
   "cell_type": "code",
   "execution_count": null,
   "id": "1f111ce7",
   "metadata": {},
   "outputs": [],
   "source": [
    "print(x_test)"
   ]
  },
  {
   "cell_type": "code",
   "execution_count": null,
   "id": "030535f1",
   "metadata": {},
   "outputs": [],
   "source": []
  }
 ],
 "metadata": {
  "kernelspec": {
   "display_name": "Python 3",
   "language": "python",
   "name": "python3"
  },
  "language_info": {
   "codemirror_mode": {
    "name": "ipython",
    "version": 3
   },
   "file_extension": ".py",
   "mimetype": "text/x-python",
   "name": "python",
   "nbconvert_exporter": "python",
   "pygments_lexer": "ipython3",
   "version": "3.9.7"
  }
 },
 "nbformat": 4,
 "nbformat_minor": 5
}

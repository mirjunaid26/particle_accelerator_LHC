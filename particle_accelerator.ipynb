{
 "cells": [
  {
   "cell_type": "markdown",
   "id": "a849d452",
   "metadata": {},
   "source": [
    "# Supervised Machine Learning Solution"
   ]
  },
  {
   "cell_type": "code",
   "execution_count": 11,
   "id": "0cfa8ccf",
   "metadata": {},
   "outputs": [],
   "source": [
    "# import the necessary libraries\n",
    "\n",
    "import os \n",
    "import warnings\n",
    "import numpy as np\n",
    "import pandas as pd\n",
    "from tqdm.notebook import tqdm\n",
    "import matplotlib.pyplot as plt"
   ]
  },
  {
   "cell_type": "code",
   "execution_count": 12,
   "id": "228668cb",
   "metadata": {},
   "outputs": [],
   "source": [
    "# import sklearn models\n",
    "\n",
    "from sklearn import svm\n",
    "from sklearn.tree import DecisionTreeClassifier\n",
    "from sklearn.neighbors import KNeighborsClassifier\n",
    "from sklearn.ensemble import RandomForestClassifier\n",
    "\n",
    "from sklearn.preprocessing import StandardScaler\n",
    "from sklearn.linear_model import LogisticRegression\n",
    "from sklearn.model_selection import train_test_split\n",
    "from sklearn.metrics import (accuracy_score, precision_score, \n",
    "                             recall_score, roc_auc_score, plot_confusion_matrix,\n",
    "                             precision_recall_curve, roc_curve)"
   ]
  },
  {
   "cell_type": "code",
   "execution_count": 13,
   "id": "bca81f53",
   "metadata": {},
   "outputs": [],
   "source": [
    "# import imblearn to deal with unbalanced classes\n",
    "from imblearn.ensemble import BalancedBaggingClassifier"
   ]
  },
  {
   "cell_type": "code",
   "execution_count": 14,
   "id": "0864c738",
   "metadata": {},
   "outputs": [],
   "source": [
    "warnings.filterwarnings(\"ignore\")"
   ]
  },
  {
   "cell_type": "markdown",
   "id": "dec90e89",
   "metadata": {},
   "source": [
    "## Import the Dataset"
   ]
  },
  {
   "cell_type": "code",
   "execution_count": 15,
   "id": "83a8849a",
   "metadata": {},
   "outputs": [],
   "source": [
    "data = pd.read_csv('new_physics_signal.csv')"
   ]
  },
  {
   "cell_type": "code",
   "execution_count": 16,
   "id": "6957cfe9",
   "metadata": {},
   "outputs": [
    {
     "data": {
      "text/html": [
       "<div>\n",
       "<style scoped>\n",
       "    .dataframe tbody tr th:only-of-type {\n",
       "        vertical-align: middle;\n",
       "    }\n",
       "\n",
       "    .dataframe tbody tr th {\n",
       "        vertical-align: top;\n",
       "    }\n",
       "\n",
       "    .dataframe thead th {\n",
       "        text-align: right;\n",
       "    }\n",
       "</style>\n",
       "<table border=\"1\" class=\"dataframe\">\n",
       "  <thead>\n",
       "    <tr style=\"text-align: right;\">\n",
       "      <th></th>\n",
       "      <th>p1</th>\n",
       "      <th>p2</th>\n",
       "      <th>p3</th>\n",
       "      <th>p4</th>\n",
       "      <th>p5</th>\n",
       "      <th>p6</th>\n",
       "      <th>p7</th>\n",
       "      <th>p8</th>\n",
       "      <th>p9</th>\n",
       "      <th>p10</th>\n",
       "      <th>p11</th>\n",
       "      <th>p12</th>\n",
       "      <th>p13</th>\n",
       "      <th>p14</th>\n",
       "      <th>Class</th>\n",
       "    </tr>\n",
       "  </thead>\n",
       "  <tbody>\n",
       "    <tr>\n",
       "      <th>0</th>\n",
       "      <td>78.482022</td>\n",
       "      <td>52.871985</td>\n",
       "      <td>-64.917465</td>\n",
       "      <td>-78.448475</td>\n",
       "      <td>-57.987246</td>\n",
       "      <td>-92.520585</td>\n",
       "      <td>27.806597</td>\n",
       "      <td>46.774201</td>\n",
       "      <td>-57.512910</td>\n",
       "      <td>22.899098</td>\n",
       "      <td>-38.790567</td>\n",
       "      <td>-83.959697</td>\n",
       "      <td>11.666977</td>\n",
       "      <td>846.710033</td>\n",
       "      <td>0</td>\n",
       "    </tr>\n",
       "    <tr>\n",
       "      <th>1</th>\n",
       "      <td>78.379086</td>\n",
       "      <td>55.058180</td>\n",
       "      <td>-68.153619</td>\n",
       "      <td>-82.693368</td>\n",
       "      <td>-59.561586</td>\n",
       "      <td>-93.335494</td>\n",
       "      <td>19.354007</td>\n",
       "      <td>47.128549</td>\n",
       "      <td>-60.470478</td>\n",
       "      <td>23.100267</td>\n",
       "      <td>-36.209469</td>\n",
       "      <td>-84.888323</td>\n",
       "      <td>11.836796</td>\n",
       "      <td>25.025335</td>\n",
       "      <td>0</td>\n",
       "    </tr>\n",
       "    <tr>\n",
       "      <th>2</th>\n",
       "      <td>79.609922</td>\n",
       "      <td>55.395154</td>\n",
       "      <td>-61.506139</td>\n",
       "      <td>-99.031856</td>\n",
       "      <td>-56.643424</td>\n",
       "      <td>-91.474574</td>\n",
       "      <td>32.361097</td>\n",
       "      <td>48.480810</td>\n",
       "      <td>-63.011139</td>\n",
       "      <td>20.523559</td>\n",
       "      <td>-38.380731</td>\n",
       "      <td>-85.190411</td>\n",
       "      <td>11.483291</td>\n",
       "      <td>2127.582986</td>\n",
       "      <td>0</td>\n",
       "    </tr>\n",
       "    <tr>\n",
       "      <th>3</th>\n",
       "      <td>80.592326</td>\n",
       "      <td>55.085738</td>\n",
       "      <td>-73.077999</td>\n",
       "      <td>-91.084996</td>\n",
       "      <td>-60.244160</td>\n",
       "      <td>-92.874068</td>\n",
       "      <td>25.292852</td>\n",
       "      <td>46.640591</td>\n",
       "      <td>-66.546879</td>\n",
       "      <td>25.600912</td>\n",
       "      <td>-39.059436</td>\n",
       "      <td>-84.421174</td>\n",
       "      <td>12.058619</td>\n",
       "      <td>700.637724</td>\n",
       "      <td>0</td>\n",
       "    </tr>\n",
       "    <tr>\n",
       "      <th>4</th>\n",
       "      <td>75.686606</td>\n",
       "      <td>56.323331</td>\n",
       "      <td>-69.943208</td>\n",
       "      <td>-75.363929</td>\n",
       "      <td>-57.215389</td>\n",
       "      <td>-92.485721</td>\n",
       "      <td>32.606410</td>\n",
       "      <td>46.729047</td>\n",
       "      <td>-56.972408</td>\n",
       "      <td>21.156952</td>\n",
       "      <td>-33.125372</td>\n",
       "      <td>-83.400313</td>\n",
       "      <td>12.788145</td>\n",
       "      <td>401.390816</td>\n",
       "      <td>0</td>\n",
       "    </tr>\n",
       "  </tbody>\n",
       "</table>\n",
       "</div>"
      ],
      "text/plain": [
       "          p1         p2         p3         p4         p5         p6  \\\n",
       "0  78.482022  52.871985 -64.917465 -78.448475 -57.987246 -92.520585   \n",
       "1  78.379086  55.058180 -68.153619 -82.693368 -59.561586 -93.335494   \n",
       "2  79.609922  55.395154 -61.506139 -99.031856 -56.643424 -91.474574   \n",
       "3  80.592326  55.085738 -73.077999 -91.084996 -60.244160 -92.874068   \n",
       "4  75.686606  56.323331 -69.943208 -75.363929 -57.215389 -92.485721   \n",
       "\n",
       "          p7         p8         p9        p10        p11        p12  \\\n",
       "0  27.806597  46.774201 -57.512910  22.899098 -38.790567 -83.959697   \n",
       "1  19.354007  47.128549 -60.470478  23.100267 -36.209469 -84.888323   \n",
       "2  32.361097  48.480810 -63.011139  20.523559 -38.380731 -85.190411   \n",
       "3  25.292852  46.640591 -66.546879  25.600912 -39.059436 -84.421174   \n",
       "4  32.606410  46.729047 -56.972408  21.156952 -33.125372 -83.400313   \n",
       "\n",
       "         p13          p14  Class  \n",
       "0  11.666977   846.710033      0  \n",
       "1  11.836796    25.025335      0  \n",
       "2  11.483291  2127.582986      0  \n",
       "3  12.058619   700.637724      0  \n",
       "4  12.788145   401.390816      0  "
      ]
     },
     "execution_count": 16,
     "metadata": {},
     "output_type": "execute_result"
    }
   ],
   "source": [
    "# print first 5 rows to have a brief look on the dataset\n",
    "data.head()"
   ]
  },
  {
   "cell_type": "markdown",
   "id": "b3e57a7e",
   "metadata": {},
   "source": [
    "## Data Preprocessing"
   ]
  },
  {
   "cell_type": "code",
   "execution_count": 17,
   "id": "e8327dae",
   "metadata": {},
   "outputs": [
    {
     "data": {
      "text/plain": [
       "p1       5\n",
       "p2       5\n",
       "p3       5\n",
       "p4       5\n",
       "p5       5\n",
       "p6       5\n",
       "p7       5\n",
       "p8       5\n",
       "p9       5\n",
       "p10      5\n",
       "p11      5\n",
       "p12      5\n",
       "p13      5\n",
       "p14      5\n",
       "Class    0\n",
       "dtype: int64"
      ]
     },
     "execution_count": 17,
     "metadata": {},
     "output_type": "execute_result"
    }
   ],
   "source": [
    "# check null values\n",
    "data.isnull().sum()"
   ]
  },
  {
   "cell_type": "code",
   "execution_count": 18,
   "id": "99e34908",
   "metadata": {},
   "outputs": [
    {
     "data": {
      "text/plain": [
       "p1       0\n",
       "p2       0\n",
       "p3       0\n",
       "p4       0\n",
       "p5       0\n",
       "p6       0\n",
       "p7       0\n",
       "p8       0\n",
       "p9       0\n",
       "p10      0\n",
       "p11      0\n",
       "p12      0\n",
       "p13      0\n",
       "p14      0\n",
       "Class    0\n",
       "dtype: int64"
      ]
     },
     "execution_count": 18,
     "metadata": {},
     "output_type": "execute_result"
    }
   ],
   "source": [
    "# remove the values containing null\n",
    "data = data.dropna()\n",
    "data.isnull().sum()"
   ]
  },
  {
   "cell_type": "code",
   "execution_count": 19,
   "id": "f4022f88",
   "metadata": {},
   "outputs": [
    {
     "data": {
      "text/plain": [
       "0    284245\n",
       "1       492\n",
       "Name: Class, dtype: int64"
      ]
     },
     "execution_count": 19,
     "metadata": {},
     "output_type": "execute_result"
    }
   ],
   "source": [
    "# count classes present in the dataset\n",
    "data['Class'].value_counts()"
   ]
  },
  {
   "cell_type": "code",
   "execution_count": 20,
   "id": "19fd4d5e",
   "metadata": {},
   "outputs": [],
   "source": [
    "\"\"\"\n",
    "As we can see that there are 492 datapoints with class value 1 and other 284245 is 0, which is unbalanced\n",
    "and makes the model a bit overfitted and biased for class 0\n",
    "\n",
    "Balancing the unbalanced data by randomly sampling the class with more datapoints. We took 600 random sampled \n",
    "datapoints from class 0 and keeping all the 423 number of datapoints for class 1. So that it is kept balanced. \n",
    "(however, I did't use the same technique for the previous notebook, in order to see the model performance)\n",
    "\n",
    "This step is to deal with the bias-variance trade-off.\n",
    "\"\"\"\n",
    "shuffled = data.sample(frac=1, random_state=4)\n",
    "data_zero = shuffled.loc[shuffled['Class'] == 0].sample(n=600, random_state = 123)\n",
    "data_one = shuffled.loc[shuffled['Class'] == 1]\n",
    "\n",
    "data_sampled_concated = pd.concat([data_zero, data_one]).sample(frac=1, random_state=4)\n",
    "data_sampled_concated = data_sampled_concated.reset_index(drop=True)\n",
    "data = data_sampled_concated"
   ]
  },
  {
   "cell_type": "code",
   "execution_count": 21,
   "id": "7fe397b1",
   "metadata": {},
   "outputs": [],
   "source": [
    "\"\"\"\n",
    "x = Taking all the rows and columns (not the last)\n",
    "y = Taking all the rows but just the last column\n",
    "\"\"\"\n",
    "\n",
    "data_x = data.iloc[:, :-1]\n",
    "data_y = data.iloc[:, -1:]"
   ]
  },
  {
   "cell_type": "markdown",
   "id": "1c9ec101",
   "metadata": {},
   "source": [
    "## Scaling and splitting the dataset into the training set and test set"
   ]
  },
  {
   "cell_type": "code",
   "execution_count": 34,
   "id": "4b910e59",
   "metadata": {},
   "outputs": [],
   "source": [
    "# Standardizing the data between the value of -1 to + 1\n",
    "scaler = StandardScaler()"
   ]
  },
  {
   "cell_type": "code",
   "execution_count": 35,
   "id": "e9f70587",
   "metadata": {},
   "outputs": [],
   "source": [
    "data_x_scaled = scaler.fit_transform(data_x)"
   ]
  },
  {
   "cell_type": "code",
   "execution_count": 26,
   "id": "47ba33e2",
   "metadata": {},
   "outputs": [],
   "source": [
    "# Converting pandas dataframe into numpy arrays\n",
    "X = np.array(data_x_scaled)\n",
    "y = np.array(data_y)"
   ]
  },
  {
   "cell_type": "code",
   "execution_count": 27,
   "id": "25273c91",
   "metadata": {},
   "outputs": [],
   "source": [
    "# Splitting the training to validation by a ratio of 70 to 30 %\n",
    "X_train, X_valid, y_train, y_valid = train_test_split(X, y, test_size=0.3, random_state=1234)"
   ]
  },
  {
   "cell_type": "code",
   "execution_count": 28,
   "id": "069d4702",
   "metadata": {},
   "outputs": [],
   "source": [
    "\"\"\"\n",
    "From those 30 % spliiting further to 90 % validation and 10 % test, so all over\n",
    "70 % train, 20 % validation and 10 % test\n",
    "\"\"\"\n",
    "X_valid, X_test, y_valid, y_test = train_test_split(X_valid, y_valid, test_size=0.1)"
   ]
  },
  {
   "cell_type": "code",
   "execution_count": 29,
   "id": "eafe4b8a",
   "metadata": {},
   "outputs": [
    {
     "name": "stdout",
     "output_type": "stream",
     "text": [
      "X_train : (764, 14), X_valid : (295, 14), X_test : (33, 14)\n",
      "X_train : (764, 1), y_valid : (295, 1), y_test : (33, 1)\n"
     ]
    }
   ],
   "source": [
    "print(f\"X_train : {X_train.shape}, X_valid : {X_valid.shape}, X_test : {X_test.shape}\")\n",
    "print(f\"X_train : {y_train.shape}, y_valid : {y_valid.shape}, y_test : {y_test.shape}\")"
   ]
  },
  {
   "cell_type": "markdown",
   "id": "749609e5",
   "metadata": {},
   "source": [
    "## Running the model experiments"
   ]
  },
  {
   "cell_type": "code",
   "execution_count": 30,
   "id": "43a9e6af",
   "metadata": {},
   "outputs": [],
   "source": [
    "\"\"\"\n",
    "run_model function\n",
    "    -> First it trains the model\n",
    "    -> predicts for validation set and test set\n",
    "    -> calculates the accuracy, precision, recall for both validation and test set\n",
    "    -> plots the confusion matrix for validation and test set\n",
    "    -> returns those values of acc, precision, recall for validation and test set\n",
    "\"\"\"\n",
    "\n",
    "def run_model(model):\n",
    "    model.fit(X_train, y_train)\n",
    "    y_valid_predicted = model.predict(X_valid)\n",
    "    y_test_predicted = model.predict(X_test)\n",
    "    \n",
    "    valid_acc = accuracy_score(y_valid, y_valid_predicted)\n",
    "    valid_precision = precision_score(y_valid, y_valid_predicted)\n",
    "    valid_recall = recall_score(y_valid, y_valid_predicted)\n",
    "    \n",
    "    test_acc = accuracy_score(y_test, y_test_predicted)\n",
    "    test_precision = precision_score(y_test, y_test_predicted)\n",
    "    test_recall = recall_score(y_test, y_test_predicted)\n",
    "    \n",
    "    print(f\"Validation ACC: {valid_acc:.3f}, Precision: {valid_precision:.3f}, Recall: {valid_recall:.3f}\")\n",
    "    print(f\"Testing ACC: {test_acc:.3f}, Precision: {test_precision:.3f}, Recall: {test_recall:.3f}\")\n",
    "    \n",
    "    plot_confusion_matrix(model, X_valid, y_valid, cmap=\"GnBu\")\n",
    "    plt.title('Validation Confusion matrix plot')\n",
    "    plt.show()\n",
    "    \n",
    "    plot_confusion_matrix(model, X_test, y_test, cmap=\"GnBu\")\n",
    "    plt.title('Testing Confusion matrix plot')\n",
    "    plt.show()\n",
    "    \n",
    "    return (valid_acc, valid_precision, valid_recall), (test_acc, test_precision, test_recall)"
   ]
  },
  {
   "cell_type": "code",
   "execution_count": 31,
   "id": "51982e57",
   "metadata": {},
   "outputs": [],
   "source": [
    "\"\"\"\n",
    "We run 5 differnt ML classifiers viz:\n",
    "    'RANDOM FOREST CLASSIFIER',\n",
    "    'DECISION TREE CLASSIFIER',\n",
    "    'KNN',\n",
    "    'LOGISTIC REGRESSION',\n",
    "    'SVM',\n",
    "    'BALANCED BAGGIN CLASSIFIER (DECISION TREE as BASE)',\n",
    "    'BALANCED BAGGIN CLASSIFIER (RANDOM FOREST as BASE)'\n",
    "\n",
    "where ('BALANCED BAGGIN CLASSIFIER (DECISION TREE as BASE)','BALANCED BAGGIN CLASSIFIER (RANDOM FOREST as BASE)') \n",
    "are ensemble model method which takes care of inbalanced data\n",
    "    \n",
    "run_all_model function\n",
    "    -> Runs the run_model() function for all the classifiers one by one\n",
    "    -> logs the returned values in a dictionary\n",
    "\n",
    "\"\"\"\n",
    "\n",
    "def run_all_models(models, model_names):\n",
    "    all_valid_acc = {}\n",
    "    all_valid_precision = {}\n",
    "    all_valid_recall = {}\n",
    "    \n",
    "    all_test_acc = {}\n",
    "    all_test_precision = {}\n",
    "    all_test_recall = {}\n",
    "    \n",
    "    for model, model_name in tqdm(zip(models, model_names), total=len(models)):\n",
    "        print(f\"\\nUSING {model_name}\")\n",
    "        (valid_acc, valid_precision, valid_recall), (test_acc, test_precision, test_recall) = run_model(model)\n",
    "        \n",
    "        all_valid_acc[model_name] = valid_acc\n",
    "        all_valid_recall[model_name] = valid_recall\n",
    "        all_valid_precision[model_name] = valid_precision\n",
    "        \n",
    "        all_test_acc[model_name] = test_acc\n",
    "        all_test_recall[model_name] = test_recall\n",
    "        all_test_precision[model_name] = test_precision\n",
    "    \n",
    "    return {\n",
    "        'all_valid_acc' : all_valid_acc,\n",
    "        'all_valid_recall' : all_valid_recall,\n",
    "        'all_valid_precision' : all_valid_precision,\n",
    "        \n",
    "        'all_test_acc' : all_test_acc,\n",
    "        'all_test_recall' : all_test_recall,\n",
    "        'all_test_precision' : all_test_precision\n",
    "    }"
   ]
  },
  {
   "cell_type": "markdown",
   "id": "93bfa13b",
   "metadata": {},
   "source": [
    "## Running all the models"
   ]
  },
  {
   "cell_type": "code",
   "execution_count": 32,
   "id": "f001009b",
   "metadata": {},
   "outputs": [
    {
     "data": {
      "application/vnd.jupyter.widget-view+json": {
       "model_id": "b92fd0ca8c3c43aea3f7178218e984aa",
       "version_major": 2,
       "version_minor": 0
      },
      "text/plain": [
       "  0%|          | 0/7 [00:00<?, ?it/s]"
      ]
     },
     "metadata": {},
     "output_type": "display_data"
    },
    {
     "name": "stdout",
     "output_type": "stream",
     "text": [
      "\n",
      "USING RANDOM FOREST CLASSIFIER\n",
      "Validation ACC: 0.912, Precision: 0.922, Recall: 0.881\n",
      "Testing ACC: 0.909, Precision: 0.929, Recall: 0.867\n"
     ]
    },
    {
     "data": {
      "image/png": "[encoded data removed]",
      "text/plain": [
       "<Figure size 432x288 with 2 Axes>"
      ]
     },
     "metadata": {
      "needs_background": "light"
     },
     "output_type": "display_data"
    },
    {
     "data": {
      "image/png": "[encoded data removed]",
      "text/plain": [
       "<Figure size 432x288 with 2 Axes>"
      ]
     },
     "metadata": {
      "needs_background": "light"
     },
     "output_type": "display_data"
    },
    {
     "name": "stdout",
     "output_type": "stream",
     "text": [
      "\n",
      "USING DECISION TREE CLASSIFIER\n",
      "Validation ACC: 0.780, Precision: 0.776, Recall: 0.724\n",
      "Testing ACC: 0.818, Precision: 0.800, Recall: 0.800\n"
     ]
    },
    {
     "data": {
      "image/png": "[encoded data removed]",
      "text/plain": [
       "<Figure size 432x288 with 2 Axes>"
      ]
     },
     "metadata": {
      "needs_background": "light"
     },
     "output_type": "display_data"
    },
    {
     "data": {
      "image/png": "[encoded data removed]",
      "text/plain": [
       "<Figure size 432x288 with 2 Axes>"
      ]
     },
     "metadata": {
      "needs_background": "light"
     },
     "output_type": "display_data"
    },
    {
     "name": "stdout",
     "output_type": "stream",
     "text": [
      "\n",
      "USING KNN\n",
      "Validation ACC: 0.776, Precision: 0.847, Recall: 0.619\n",
      "Testing ACC: 0.848, Precision: 0.917, Recall: 0.733\n"
     ]
    },
    {
     "data": {
      "image/png": "[encoded data removed]",
      "text/plain": [
       "<Figure size 432x288 with 2 Axes>"
      ]
     },
     "metadata": {
      "needs_background": "light"
     },
     "output_type": "display_data"
    },
    {
     "data": {
      "image/png": "[encoded data removed]",
      "text/plain": [
       "<Figure size 432x288 with 2 Axes>"
      ]
     },
     "metadata": {
      "needs_background": "light"
     },
     "output_type": "display_data"
    },
    {
     "name": "stdout",
     "output_type": "stream",
     "text": [
      "\n",
      "USING LOGISTIC REGRESSION\n",
      "Validation ACC: 0.692, Precision: 0.697, Recall: 0.567\n",
      "Testing ACC: 0.788, Precision: 0.750, Recall: 0.800\n"
     ]
    },
    {
     "data": {
      "image/png": "[encoded data removed]",
      "text/plain": [
       "<Figure size 432x288 with 2 Axes>"
      ]
     },
     "metadata": {
      "needs_background": "light"
     },
     "output_type": "display_data"
    },
    {
     "data": {
      "image/png": "[encoded data removed]",
      "text/plain": [
       "<Figure size 432x288 with 2 Axes>"
      ]
     },
     "metadata": {
      "needs_background": "light"
     },
     "output_type": "display_data"
    },
    {
     "name": "stdout",
     "output_type": "stream",
     "text": [
      "\n",
      "USING SVM\n",
      "Validation ACC: 0.871, Precision: 0.929, Recall: 0.776\n",
      "Testing ACC: 0.909, Precision: 1.000, Recall: 0.800\n"
     ]
    },
    {
     "data": {
      "image/png": "[encoded data removed]",
      "text/plain": [
       "<Figure size 432x288 with 2 Axes>"
      ]
     },
     "metadata": {
      "needs_background": "light"
     },
     "output_type": "display_data"
    },
    {
     "data": {
      "image/png": "[encoded data removed]",
      "text/plain": [
       "<Figure size 432x288 with 2 Axes>"
      ]
     },
     "metadata": {
      "needs_background": "light"
     },
     "output_type": "display_data"
    },
    {
     "name": "stdout",
     "output_type": "stream",
     "text": [
      "\n",
      "USING BALANCED BAGGIN CLASSIFIER (DECISION TREE as BASE)\n",
      "Validation ACC: 0.881, Precision: 0.909, Recall: 0.821\n",
      "Testing ACC: 0.879, Precision: 0.923, Recall: 0.800\n"
     ]
    },
    {
     "data": {
      "image/png": "[encoded data removed]",
      "text/plain": [
       "<Figure size 432x288 with 2 Axes>"
      ]
     },
     "metadata": {
      "needs_background": "light"
     },
     "output_type": "display_data"
    },
    {
     "data": {
      "image/png": "[encoded data removed]",
      "text/plain": [
       "<Figure size 432x288 with 2 Axes>"
      ]
     },
     "metadata": {
      "needs_background": "light"
     },
     "output_type": "display_data"
    },
    {
     "name": "stdout",
     "output_type": "stream",
     "text": [
      "\n",
      "USING BALANCED BAGGIN CLASSIFIER (RANDOM FOREST as BASE)\n",
      "Validation ACC: 0.888, Precision: 0.874, Recall: 0.881\n",
      "Testing ACC: 0.909, Precision: 0.929, Recall: 0.867\n"
     ]
    },
    {
     "data": {
      "image/png": "[encoded data removed]",
      "text/plain": [
       "<Figure size 432x288 with 2 Axes>"
      ]
     },
     "metadata": {
      "needs_background": "light"
     },
     "output_type": "display_data"
    },
    {
     "data": {
      "image/png": "[encoded data removed]",
      "text/plain": [
       "<Figure size 432x288 with 2 Axes>"
      ]
     },
     "metadata": {
      "needs_background": "light"
     },
     "output_type": "display_data"
    }
   ],
   "source": [
    "\"\"\"\n",
    "For each model we can see the validation and test acc, precision and recall\n",
    "and also we can see the confusion matrix for validation and test set.\n",
    "\n",
    "\"\"\"\n",
    "\n",
    "MODELS = [\n",
    "    RandomForestClassifier(),\n",
    "    DecisionTreeClassifier(),\n",
    "    KNeighborsClassifier(n_neighbors=3),\n",
    "    LogisticRegression(random_state=0),\n",
    "    svm.SVC(),\n",
    "    BalancedBaggingClassifier(base_estimator=DecisionTreeClassifier(),\n",
    "                              sampling_strategy='auto',\n",
    "                              replacement=False, \n",
    "                              random_state=0),\n",
    "    \n",
    "    BalancedBaggingClassifier(base_estimator=RandomForestClassifier(),\n",
    "                             sampling_strategy='auto',\n",
    "                             replacement=False, \n",
    "                             random_state=0)\n",
    "]\n",
    "\n",
    "MODEL_NAMES = [\n",
    "    'RANDOM FOREST CLASSIFIER',\n",
    "    'DECISION TREE CLASSIFIER',\n",
    "    'KNN',\n",
    "    'LOGISTIC REGRESSION',\n",
    "    'SVM',\n",
    "    'BALANCED BAGGIN CLASSIFIER (DECISION TREE as BASE)',\n",
    "    'BALANCED BAGGIN CLASSIFIER (RANDOM FOREST as BASE)'\n",
    "    \n",
    "]\n",
    "\n",
    "MODEL_LOGS = run_all_models(MODELS, MODEL_NAMES)"
   ]
  },
  {
   "cell_type": "code",
   "execution_count": 33,
   "id": "0669e86e",
   "metadata": {},
   "outputs": [
    {
     "name": "stdout",
     "output_type": "stream",
     "text": [
      "{\n",
      "    \"all_valid_acc\": {\n",
      "        \"RANDOM FOREST CLASSIFIER\": 0.911864406779661,\n",
      "        \"DECISION TREE CLASSIFIER\": 0.7796610169491526,\n",
      "        \"KNN\": 0.7762711864406779,\n",
      "        \"LOGISTIC REGRESSION\": 0.6915254237288135,\n",
      "        \"SVM\": 0.8711864406779661,\n",
      "        \"BALANCED BAGGIN CLASSIFIER (DECISION TREE as BASE)\": 0.8813559322033898,\n",
      "        \"BALANCED BAGGIN CLASSIFIER (RANDOM FOREST as BASE)\": 0.888135593220339\n",
      "    },\n",
      "    \"all_valid_recall\": {\n",
      "        \"RANDOM FOREST CLASSIFIER\": 0.8805970149253731,\n",
      "        \"DECISION TREE CLASSIFIER\": 0.7238805970149254,\n",
      "        \"KNN\": 0.6194029850746269,\n",
      "        \"LOGISTIC REGRESSION\": 0.5671641791044776,\n",
      "        \"SVM\": 0.7761194029850746,\n",
      "        \"BALANCED BAGGIN CLASSIFIER (DECISION TREE as BASE)\": 0.8208955223880597,\n",
      "        \"BALANCED BAGGIN CLASSIFIER (RANDOM FOREST as BASE)\": 0.8805970149253731\n",
      "    },\n",
      "    \"all_valid_precision\": {\n",
      "        \"RANDOM FOREST CLASSIFIER\": 0.921875,\n",
      "        \"DECISION TREE CLASSIFIER\": 0.776,\n",
      "        \"KNN\": 0.8469387755102041,\n",
      "        \"LOGISTIC REGRESSION\": 0.6972477064220184,\n",
      "        \"SVM\": 0.9285714285714286,\n",
      "        \"BALANCED BAGGIN CLASSIFIER (DECISION TREE as BASE)\": 0.9090909090909091,\n",
      "        \"BALANCED BAGGIN CLASSIFIER (RANDOM FOREST as BASE)\": 0.8740740740740741\n",
      "    },\n",
      "    \"all_test_acc\": {\n",
      "        \"RANDOM FOREST CLASSIFIER\": 0.9090909090909091,\n",
      "        \"DECISION TREE CLASSIFIER\": 0.8181818181818182,\n",
      "        \"KNN\": 0.8484848484848485,\n",
      "        \"LOGISTIC REGRESSION\": 0.7878787878787878,\n",
      "        \"SVM\": 0.9090909090909091,\n",
      "        \"BALANCED BAGGIN CLASSIFIER (DECISION TREE as BASE)\": 0.8787878787878788,\n",
      "        \"BALANCED BAGGIN CLASSIFIER (RANDOM FOREST as BASE)\": 0.9090909090909091\n",
      "    },\n",
      "    \"all_test_recall\": {\n",
      "        \"RANDOM FOREST CLASSIFIER\": 0.8666666666666667,\n",
      "        \"DECISION TREE CLASSIFIER\": 0.8,\n",
      "        \"KNN\": 0.7333333333333333,\n",
      "        \"LOGISTIC REGRESSION\": 0.8,\n",
      "        \"SVM\": 0.8,\n",
      "        \"BALANCED BAGGIN CLASSIFIER (DECISION TREE as BASE)\": 0.8,\n",
      "        \"BALANCED BAGGIN CLASSIFIER (RANDOM FOREST as BASE)\": 0.8666666666666667\n",
      "    },\n",
      "    \"all_test_precision\": {\n",
      "        \"RANDOM FOREST CLASSIFIER\": 0.9285714285714286,\n",
      "        \"DECISION TREE CLASSIFIER\": 0.8,\n",
      "        \"KNN\": 0.9166666666666666,\n",
      "        \"LOGISTIC REGRESSION\": 0.75,\n",
      "        \"SVM\": 1.0,\n",
      "        \"BALANCED BAGGIN CLASSIFIER (DECISION TREE as BASE)\": 0.9230769230769231,\n",
      "        \"BALANCED BAGGIN CLASSIFIER (RANDOM FOREST as BASE)\": 0.9285714285714286\n",
      "    }\n",
      "}\n"
     ]
    }
   ],
   "source": [
    "import json\n",
    "print(json.dumps(MODEL_LOGS, sort_keys=False, indent=4))"
   ]
  },
  {
   "cell_type": "markdown",
   "id": "51ebbedb",
   "metadata": {},
   "source": [
    "We can see from the `MODEL_LOGS` that `BALANCED BAGGIN CLASSIFIER (RANDOM FOREST as BASE)` is the best model and \n",
    "most generalized as it has the following metric:\n",
    "\n",
    "1. Validation Accuracy  : 88.8 %\n",
    "2. Validation Precision : 86.8 %\n",
    "3. Validation Recall    : 87.5 %\n",
    "\n",
    "4. Test Accuracy  : 90.9 %\n",
    "5. Test Precision : 95 %\n",
    "6. Test Recall    : 90.4 %"
   ]
  },
  {
   "cell_type": "markdown",
   "id": "0ecbbf10",
   "metadata": {},
   "source": [
    "So `BALANCED BAGGIN CLASSIFIER (RANDOM FOREST as BASE)` is the best among all as an ensemble technique."
   ]
  }
 ],
 "metadata": {
  "kernelspec": {
   "display_name": "Python 3",
   "language": "python",
   "name": "python3"
  },
  "language_info": {
   "codemirror_mode": {
    "name": "ipython",
    "version": 3
   },
   "file_extension": ".py",
   "mimetype": "text/x-python",
   "name": "python",
   "nbconvert_exporter": "python",
   "pygments_lexer": "ipython3",
   "version": "3.9.7"
  }
 },
 "nbformat": 4,
 "nbformat_minor": 5
}

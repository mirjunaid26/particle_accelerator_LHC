{
 "cells": [
  {
   "cell_type": "markdown",
   "id": "29939162",
   "metadata": {},
   "source": [
    "### Importing the Libraries"
   ]
  },
  {
   "cell_type": "code",
   "execution_count": 1,
   "id": "7f5906f5",
   "metadata": {},
   "outputs": [],
   "source": [
    "import os \n",
    "import warnings\n",
    "import numpy as np\n",
    "import pandas as pd\n",
    "from tqdm.notebook import tqdm\n",
    "import matplotlib.pyplot as plt"
   ]
  },
  {
   "cell_type": "code",
   "execution_count": 2,
   "id": "59fc1b7a",
   "metadata": {},
   "outputs": [],
   "source": [
    "from sklearn import svm\n",
    "from sklearn.tree import DecisionTreeClassifier\n",
    "from sklearn.neighbors import KNeighborsClassifier\n",
    "from sklearn.ensemble import RandomForestClassifier\n",
    "\n",
    "from sklearn.preprocessing import StandardScaler\n",
    "from sklearn.linear_model import LogisticRegression\n",
    "from sklearn.model_selection import train_test_split\n",
    "from sklearn.metrics import (accuracy_score, precision_score, \n",
    "                             recall_score, roc_auc_score, plot_confusion_matrix,\n",
    "                             precision_recall_curve, roc_curve)"
   ]
  },
  {
   "cell_type": "code",
   "execution_count": 3,
   "id": "d8637958",
   "metadata": {},
   "outputs": [
    {
     "name": "stdout",
     "output_type": "stream",
     "text": [
      "Requirement already satisfied: imblearn in /home/anindya/VirtualEnv/PyTorch/lib/python3.8/site-packages (0.0)\n",
      "Requirement already satisfied: imbalanced-learn in /home/anindya/VirtualEnv/PyTorch/lib/python3.8/site-packages (from imblearn) (0.9.0)\n",
      "Requirement already satisfied: numpy>=1.14.6 in /home/anindya/VirtualEnv/PyTorch/lib/python3.8/site-packages (from imbalanced-learn->imblearn) (1.22.3)\n",
      "Requirement already satisfied: joblib>=0.11 in /home/anindya/VirtualEnv/PyTorch/lib/python3.8/site-packages (from imbalanced-learn->imblearn) (1.1.0)\n",
      "Requirement already satisfied: threadpoolctl>=2.0.0 in /home/anindya/VirtualEnv/PyTorch/lib/python3.8/site-packages (from imbalanced-learn->imblearn) (3.1.0)\n",
      "Requirement already satisfied: scikit-learn>=1.0.1 in /home/anindya/VirtualEnv/PyTorch/lib/python3.8/site-packages (from imbalanced-learn->imblearn) (1.0.2)\n",
      "Requirement already satisfied: scipy>=1.1.0 in /home/anindya/VirtualEnv/PyTorch/lib/python3.8/site-packages (from imbalanced-learn->imblearn) (1.8.0)\n"
     ]
    }
   ],
   "source": [
    "!pip install imblearn"
   ]
  },
  {
   "cell_type": "code",
   "execution_count": 4,
   "id": "5b700f86",
   "metadata": {},
   "outputs": [],
   "source": [
    "from imblearn.ensemble import BalancedBaggingClassifier"
   ]
  },
  {
   "cell_type": "code",
   "execution_count": 5,
   "id": "213cfc0a",
   "metadata": {},
   "outputs": [],
   "source": [
    "warnings.filterwarnings(\"ignore\")"
   ]
  },
  {
   "cell_type": "code",
   "execution_count": 6,
   "id": "ab634032",
   "metadata": {},
   "outputs": [],
   "source": [
    "data = pd.read_csv('new_physics_signal.csv')"
   ]
  },
  {
   "cell_type": "code",
   "execution_count": 7,
   "id": "bd842c3a",
   "metadata": {},
   "outputs": [
    {
     "data": {
      "text/html": [
       "<div>\n",
       "<style scoped>\n",
       "    .dataframe tbody tr th:only-of-type {\n",
       "        vertical-align: middle;\n",
       "    }\n",
       "\n",
       "    .dataframe tbody tr th {\n",
       "        vertical-align: top;\n",
       "    }\n",
       "\n",
       "    .dataframe thead th {\n",
       "        text-align: right;\n",
       "    }\n",
       "</style>\n",
       "<table border=\"1\" class=\"dataframe\">\n",
       "  <thead>\n",
       "    <tr style=\"text-align: right;\">\n",
       "      <th></th>\n",
       "      <th>p1</th>\n",
       "      <th>p2</th>\n",
       "      <th>p3</th>\n",
       "      <th>p4</th>\n",
       "      <th>p5</th>\n",
       "      <th>p6</th>\n",
       "      <th>p7</th>\n",
       "      <th>p8</th>\n",
       "      <th>p9</th>\n",
       "      <th>p10</th>\n",
       "      <th>p11</th>\n",
       "      <th>p12</th>\n",
       "      <th>p13</th>\n",
       "      <th>p14</th>\n",
       "      <th>Class</th>\n",
       "    </tr>\n",
       "  </thead>\n",
       "  <tbody>\n",
       "    <tr>\n",
       "      <th>0</th>\n",
       "      <td>78.482022</td>\n",
       "      <td>52.871985</td>\n",
       "      <td>-64.917465</td>\n",
       "      <td>-78.448475</td>\n",
       "      <td>-57.987246</td>\n",
       "      <td>-92.520585</td>\n",
       "      <td>27.806597</td>\n",
       "      <td>46.774201</td>\n",
       "      <td>-57.512910</td>\n",
       "      <td>22.899098</td>\n",
       "      <td>-38.790567</td>\n",
       "      <td>-83.959697</td>\n",
       "      <td>11.666977</td>\n",
       "      <td>846.710033</td>\n",
       "      <td>0</td>\n",
       "    </tr>\n",
       "    <tr>\n",
       "      <th>1</th>\n",
       "      <td>78.379086</td>\n",
       "      <td>55.058180</td>\n",
       "      <td>-68.153619</td>\n",
       "      <td>-82.693368</td>\n",
       "      <td>-59.561586</td>\n",
       "      <td>-93.335494</td>\n",
       "      <td>19.354007</td>\n",
       "      <td>47.128549</td>\n",
       "      <td>-60.470478</td>\n",
       "      <td>23.100267</td>\n",
       "      <td>-36.209469</td>\n",
       "      <td>-84.888323</td>\n",
       "      <td>11.836796</td>\n",
       "      <td>25.025335</td>\n",
       "      <td>0</td>\n",
       "    </tr>\n",
       "    <tr>\n",
       "      <th>2</th>\n",
       "      <td>79.609922</td>\n",
       "      <td>55.395154</td>\n",
       "      <td>-61.506139</td>\n",
       "      <td>-99.031856</td>\n",
       "      <td>-56.643424</td>\n",
       "      <td>-91.474574</td>\n",
       "      <td>32.361097</td>\n",
       "      <td>48.480810</td>\n",
       "      <td>-63.011139</td>\n",
       "      <td>20.523559</td>\n",
       "      <td>-38.380731</td>\n",
       "      <td>-85.190411</td>\n",
       "      <td>11.483291</td>\n",
       "      <td>2127.582986</td>\n",
       "      <td>0</td>\n",
       "    </tr>\n",
       "    <tr>\n",
       "      <th>3</th>\n",
       "      <td>80.592326</td>\n",
       "      <td>55.085738</td>\n",
       "      <td>-73.077999</td>\n",
       "      <td>-91.084996</td>\n",
       "      <td>-60.244160</td>\n",
       "      <td>-92.874068</td>\n",
       "      <td>25.292852</td>\n",
       "      <td>46.640591</td>\n",
       "      <td>-66.546879</td>\n",
       "      <td>25.600912</td>\n",
       "      <td>-39.059436</td>\n",
       "      <td>-84.421174</td>\n",
       "      <td>12.058619</td>\n",
       "      <td>700.637724</td>\n",
       "      <td>0</td>\n",
       "    </tr>\n",
       "    <tr>\n",
       "      <th>4</th>\n",
       "      <td>75.686606</td>\n",
       "      <td>56.323331</td>\n",
       "      <td>-69.943208</td>\n",
       "      <td>-75.363929</td>\n",
       "      <td>-57.215389</td>\n",
       "      <td>-92.485721</td>\n",
       "      <td>32.606410</td>\n",
       "      <td>46.729047</td>\n",
       "      <td>-56.972408</td>\n",
       "      <td>21.156952</td>\n",
       "      <td>-33.125372</td>\n",
       "      <td>-83.400313</td>\n",
       "      <td>12.788145</td>\n",
       "      <td>401.390816</td>\n",
       "      <td>0</td>\n",
       "    </tr>\n",
       "  </tbody>\n",
       "</table>\n",
       "</div>"
      ],
      "text/plain": [
       "          p1         p2         p3         p4         p5         p6  \\\n",
       "0  78.482022  52.871985 -64.917465 -78.448475 -57.987246 -92.520585   \n",
       "1  78.379086  55.058180 -68.153619 -82.693368 -59.561586 -93.335494   \n",
       "2  79.609922  55.395154 -61.506139 -99.031856 -56.643424 -91.474574   \n",
       "3  80.592326  55.085738 -73.077999 -91.084996 -60.244160 -92.874068   \n",
       "4  75.686606  56.323331 -69.943208 -75.363929 -57.215389 -92.485721   \n",
       "\n",
       "          p7         p8         p9        p10        p11        p12  \\\n",
       "0  27.806597  46.774201 -57.512910  22.899098 -38.790567 -83.959697   \n",
       "1  19.354007  47.128549 -60.470478  23.100267 -36.209469 -84.888323   \n",
       "2  32.361097  48.480810 -63.011139  20.523559 -38.380731 -85.190411   \n",
       "3  25.292852  46.640591 -66.546879  25.600912 -39.059436 -84.421174   \n",
       "4  32.606410  46.729047 -56.972408  21.156952 -33.125372 -83.400313   \n",
       "\n",
       "         p13          p14  Class  \n",
       "0  11.666977   846.710033      0  \n",
       "1  11.836796    25.025335      0  \n",
       "2  11.483291  2127.582986      0  \n",
       "3  12.058619   700.637724      0  \n",
       "4  12.788145   401.390816      0  "
      ]
     },
     "execution_count": 7,
     "metadata": {},
     "output_type": "execute_result"
    }
   ],
   "source": [
    "data.head()"
   ]
  },
  {
   "cell_type": "markdown",
   "id": "e8511ebf",
   "metadata": {},
   "source": [
    "### Simple preprocessing the Dataset"
   ]
  },
  {
   "cell_type": "code",
   "execution_count": 8,
   "id": "dfbaa8ce",
   "metadata": {},
   "outputs": [
    {
     "data": {
      "text/plain": [
       "p1       5\n",
       "p2       5\n",
       "p3       5\n",
       "p4       5\n",
       "p5       5\n",
       "p6       5\n",
       "p7       5\n",
       "p8       5\n",
       "p9       5\n",
       "p10      5\n",
       "p11      5\n",
       "p12      5\n",
       "p13      5\n",
       "p14      5\n",
       "Class    0\n",
       "dtype: int64"
      ]
     },
     "execution_count": 8,
     "metadata": {},
     "output_type": "execute_result"
    }
   ],
   "source": [
    "data.isnull().sum()"
   ]
  },
  {
   "cell_type": "code",
   "execution_count": 9,
   "id": "300340a9",
   "metadata": {},
   "outputs": [
    {
     "data": {
      "text/plain": [
       "p1       0\n",
       "p2       0\n",
       "p3       0\n",
       "p4       0\n",
       "p5       0\n",
       "p6       0\n",
       "p7       0\n",
       "p8       0\n",
       "p9       0\n",
       "p10      0\n",
       "p11      0\n",
       "p12      0\n",
       "p13      0\n",
       "p14      0\n",
       "Class    0\n",
       "dtype: int64"
      ]
     },
     "execution_count": 9,
     "metadata": {},
     "output_type": "execute_result"
    }
   ],
   "source": [
    "\"\"\"\n",
    "removing the values containing null, we can not replace as replacing would alter the event\n",
    "\"\"\"\n",
    "\n",
    "data = data.dropna()\n",
    "data.isnull().sum()"
   ]
  },
  {
   "cell_type": "code",
   "execution_count": 10,
   "id": "c28d3843",
   "metadata": {},
   "outputs": [
    {
     "data": {
      "text/plain": [
       "0    284245\n",
       "1       492\n",
       "Name: Class, dtype: int64"
      ]
     },
     "execution_count": 10,
     "metadata": {},
     "output_type": "execute_result"
    }
   ],
   "source": [
    "data['Class'].value_counts()"
   ]
  },
  {
   "cell_type": "code",
   "execution_count": 11,
   "id": "17ae50b5",
   "metadata": {},
   "outputs": [],
   "source": [
    "\"\"\"\n",
    "Balancing the unbalanced data by randomly sampling the class with more datapoints\n",
    "Used if required.\n",
    "\"\"\"\n",
    "\n",
    "shuffled = data.sample(frac=1, random_state=4)\n",
    "data_zero = shuffled.loc[shuffled['Class'] == 0].sample(n=600, random_state = 123)\n",
    "data_one = shuffled.loc[shuffled['Class'] == 1]\n",
    "\n",
    "data_sampled_concated = pd.concat([data_zero, data_one]).sample(frac=1, random_state=4)\n",
    "data_sampled_concated = data_sampled_concated.reset_index(drop=True)\n",
    "data = data_sampled_concated"
   ]
  },
  {
   "cell_type": "code",
   "execution_count": 12,
   "id": "b6ca3836",
   "metadata": {},
   "outputs": [],
   "source": [
    "data_x = data.iloc[:, :-1]\n",
    "data_y = data.iloc[:, -1:]"
   ]
  },
  {
   "cell_type": "markdown",
   "id": "2a11cd64",
   "metadata": {},
   "source": [
    "### Scaling and splitting"
   ]
  },
  {
   "cell_type": "code",
   "execution_count": 13,
   "id": "1a67534d",
   "metadata": {},
   "outputs": [],
   "source": [
    "scaler = StandardScaler()"
   ]
  },
  {
   "cell_type": "code",
   "execution_count": 14,
   "id": "50795bb1",
   "metadata": {},
   "outputs": [],
   "source": [
    "data_x_scaled = scaler.fit_transform(data_x)"
   ]
  },
  {
   "cell_type": "code",
   "execution_count": 15,
   "id": "666dddf2",
   "metadata": {},
   "outputs": [],
   "source": [
    "X = np.array(data_x_scaled)\n",
    "y = np.array(data_y)"
   ]
  },
  {
   "cell_type": "code",
   "execution_count": 16,
   "id": "29506559",
   "metadata": {},
   "outputs": [],
   "source": [
    "X_train, X_valid, y_train, y_valid = train_test_split(X, y, test_size=0.3, random_state=1234)"
   ]
  },
  {
   "cell_type": "code",
   "execution_count": 17,
   "id": "449bfc1d",
   "metadata": {},
   "outputs": [],
   "source": [
    "X_valid, X_test, y_valid, y_test = train_test_split(X_valid, y_valid, test_size=0.1)"
   ]
  },
  {
   "cell_type": "code",
   "execution_count": 18,
   "id": "0b6dd19d",
   "metadata": {},
   "outputs": [
    {
     "name": "stdout",
     "output_type": "stream",
     "text": [
      "X_train : (764, 14), X_valid : (295, 14), X_test : (33, 14)\n",
      "X_train : (764, 1), y_valid : (295, 1), y_test : (33, 1)\n"
     ]
    }
   ],
   "source": [
    "print(f\"X_train : {X_train.shape}, X_valid : {X_valid.shape}, X_test : {X_test.shape}\")\n",
    "print(f\"X_train : {y_train.shape}, y_valid : {y_valid.shape}, y_test : {y_test.shape}\")"
   ]
  },
  {
   "cell_type": "markdown",
   "id": "e30c7f14",
   "metadata": {},
   "source": [
    "### Running model experiments"
   ]
  },
  {
   "cell_type": "code",
   "execution_count": 19,
   "id": "6473b5c9",
   "metadata": {},
   "outputs": [],
   "source": [
    "def run_model(model):\n",
    "    model.fit(X_train, y_train)\n",
    "    y_valid_predicted = model.predict(X_valid)\n",
    "    y_test_predicted = model.predict(X_test)\n",
    "    \n",
    "    valid_acc = accuracy_score(y_valid, y_valid_predicted)\n",
    "    valid_precision = precision_score(y_valid, y_valid_predicted)\n",
    "    valid_recall = recall_score(y_valid, y_valid_predicted)\n",
    "    \n",
    "    test_acc = accuracy_score(y_test, y_test_predicted)\n",
    "    test_precision = precision_score(y_test, y_test_predicted)\n",
    "    test_recall = recall_score(y_test, y_test_predicted)\n",
    "    \n",
    "    print(f\"Validation ACC: {valid_acc:.3f}, Precision: {valid_precision:.3f}, Recall: {valid_recall:.3f}\")\n",
    "    print(f\"Testing ACC: {test_acc:.3f}, Precision: {test_precision:.3f}, Recall: {test_recall:.3f}\")\n",
    "    \n",
    "    plot_confusion_matrix(model, X_valid, y_valid, cmap=\"GnBu\")\n",
    "    plt.title('Validation Confusion matrix plot')\n",
    "    plt.show()\n",
    "    \n",
    "    plot_confusion_matrix(model, X_test, y_test, cmap=\"GnBu\")\n",
    "    plt.title('Testing Confusion matrix plot')\n",
    "    plt.show()\n",
    "    \n",
    "    return (valid_acc, valid_precision, valid_recall), (test_acc, test_precision, test_recall)"
   ]
  },
  {
   "cell_type": "code",
   "execution_count": 20,
   "id": "07348715",
   "metadata": {},
   "outputs": [],
   "source": [
    "def run_all_models(models, model_names):\n",
    "    all_valid_acc = {}\n",
    "    all_valid_precision = {}\n",
    "    all_valid_recall = {}\n",
    "    \n",
    "    all_test_acc = {}\n",
    "    all_test_precision = {}\n",
    "    all_test_recall = {}\n",
    "    \n",
    "    for model, model_name in tqdm(zip(models, model_names), total=len(models)):\n",
    "        print(f\"\\nUSING {model_name}\")\n",
    "        (valid_acc, valid_precision, valid_recall), (test_acc, test_precision, test_recall) = run_model(model)\n",
    "        \n",
    "        all_valid_acc[model_name] = valid_acc\n",
    "        all_valid_recall[model_name] = valid_recall\n",
    "        all_valid_precision[model_name] = valid_precision\n",
    "        \n",
    "        all_test_acc[model_name] = test_acc\n",
    "        all_test_recall[model_name] = test_recall\n",
    "        all_test_precision[model_name] = test_precision\n",
    "    \n",
    "    return {\n",
    "        'all_valid_acc' : all_valid_acc,\n",
    "        'all_valid_recall' : all_valid_recall,\n",
    "        'all_valid_precision' : all_valid_precision,\n",
    "        \n",
    "        'all_test_acc' : all_test_acc,\n",
    "        'all_test_recall' : all_test_recall,\n",
    "        'all_test_precision' : all_test_precision\n",
    "    }"
   ]
  },
  {
   "cell_type": "markdown",
   "id": "01148f43",
   "metadata": {},
   "source": [
    "### Running all the model"
   ]
  },
  {
   "cell_type": "code",
   "execution_count": 21,
   "id": "b21ce4d7",
   "metadata": {
    "scrolled": false
   },
   "outputs": [
    {
     "data": {
      "application/vnd.jupyter.widget-view+json": {
       "model_id": "b006c2b9a4bb4a41b7aa1bee64628263",
       "version_major": 2,
       "version_minor": 0
      },
      "text/plain": [
       "  0%|          | 0/7 [00:00<?, ?it/s]"
      ]
     },
     "metadata": {},
     "output_type": "display_data"
    },
    {
     "name": "stdout",
     "output_type": "stream",
     "text": [
      "\n",
      "USING RANDOM FOREST CLASSIFIER\n",
      "Validation ACC: 0.881, Precision: 0.896, Recall: 0.836\n",
      "Testing ACC: 0.909, Precision: 0.929, Recall: 0.867\n"
     ]
    },
    {
     "data": {
      "image/png": "[encoded data removed]",
      "text/plain": [
       "<Figure size 432x288 with 2 Axes>"
      ]
     },
     "metadata": {
      "needs_background": "light"
     },
     "output_type": "display_data"
    },
    {
     "data": {
      "image/png": "[encoded data removed]",
      "text/plain": [
       "<Figure size 432x288 with 2 Axes>"
      ]
     },
     "metadata": {
      "needs_background": "light"
     },
     "output_type": "display_data"
    },
    {
     "name": "stdout",
     "output_type": "stream",
     "text": [
      "\n",
      "USING DECISION TREE CLASSIFIER\n",
      "Validation ACC: 0.803, Precision: 0.802, Recall: 0.754\n",
      "Testing ACC: 0.818, Precision: 0.765, Recall: 0.867\n"
     ]
    },
    {
     "data": {
      "image/png": "[encoded data removed]",
      "text/plain": [
       "<Figure size 432x288 with 2 Axes>"
      ]
     },
     "metadata": {
      "needs_background": "light"
     },
     "output_type": "display_data"
    },
    {
     "data": {
      "image/png": "[encoded data removed]",
      "text/plain": [
       "<Figure size 432x288 with 2 Axes>"
      ]
     },
     "metadata": {
      "needs_background": "light"
     },
     "output_type": "display_data"
    },
    {
     "name": "stdout",
     "output_type": "stream",
     "text": [
      "\n",
      "USING KNN\n",
      "Validation ACC: 0.773, Precision: 0.860, Recall: 0.597\n",
      "Testing ACC: 0.879, Precision: 0.824, Recall: 0.933\n"
     ]
    },
    {
     "data": {
      "image/png": "[encoded data removed]",
      "text/plain": [
       "<Figure size 432x288 with 2 Axes>"
      ]
     },
     "metadata": {
      "needs_background": "light"
     },
     "output_type": "display_data"
    },
    {
     "data": {
      "image/png": "[encoded data removed]",
      "text/plain": [
       "<Figure size 432x288 with 2 Axes>"
      ]
     },
     "metadata": {
      "needs_background": "light"
     },
     "output_type": "display_data"
    },
    {
     "name": "stdout",
     "output_type": "stream",
     "text": [
      "\n",
      "USING LOGISTIC REGRESSION\n",
      "Validation ACC: 0.702, Precision: 0.717, Recall: 0.567\n",
      "Testing ACC: 0.697, Precision: 0.632, Recall: 0.800\n"
     ]
    },
    {
     "data": {
      "image/png": "[encoded data removed]",
      "text/plain": [
       "<Figure size 432x288 with 2 Axes>"
      ]
     },
     "metadata": {
      "needs_background": "light"
     },
     "output_type": "display_data"
    },
    {
     "data": {
      "image/png": "[encoded data removed]",
      "text/plain": [
       "<Figure size 432x288 with 2 Axes>"
      ]
     },
     "metadata": {
      "needs_background": "light"
     },
     "output_type": "display_data"
    },
    {
     "name": "stdout",
     "output_type": "stream",
     "text": [
      "\n",
      "USING SVM\n",
      "Validation ACC: 0.871, Precision: 0.936, Recall: 0.769\n",
      "Testing ACC: 0.909, Precision: 0.929, Recall: 0.867\n"
     ]
    },
    {
     "data": {
      "image/png": "[encoded data removed]",
      "text/plain": [
       "<Figure size 432x288 with 2 Axes>"
      ]
     },
     "metadata": {
      "needs_background": "light"
     },
     "output_type": "display_data"
    },
    {
     "data": {
      "image/png": "[encoded data removed]",
      "text/plain": [
       "<Figure size 432x288 with 2 Axes>"
      ]
     },
     "metadata": {
      "needs_background": "light"
     },
     "output_type": "display_data"
    },
    {
     "name": "stdout",
     "output_type": "stream",
     "text": [
      "\n",
      "USING BALANCED BAGGIN CLASSIFIER (DECISION TREE as BASE)\n",
      "Validation ACC: 0.881, Precision: 0.916, Recall: 0.813\n",
      "Testing ACC: 0.879, Precision: 0.867, Recall: 0.867\n"
     ]
    },
    {
     "data": {
      "image/png": "[encoded data removed]",
      "text/plain": [
       "<Figure size 432x288 with 2 Axes>"
      ]
     },
     "metadata": {
      "needs_background": "light"
     },
     "output_type": "display_data"
    },
    {
     "data": {
      "image/png": "[encoded data removed]",
      "text/plain": [
       "<Figure size 432x288 with 2 Axes>"
      ]
     },
     "metadata": {
      "needs_background": "light"
     },
     "output_type": "display_data"
    },
    {
     "name": "stdout",
     "output_type": "stream",
     "text": [
      "\n",
      "USING BALANCED BAGGIN CLASSIFIER (RANDOM FOREST as BASE)\n",
      "Validation ACC: 0.888, Precision: 0.874, Recall: 0.881\n",
      "Testing ACC: 0.909, Precision: 0.929, Recall: 0.867\n"
     ]
    },
    {
     "data": {
      "image/png": "[encoded data removed]",
      "text/plain": [
       "<Figure size 432x288 with 2 Axes>"
      ]
     },
     "metadata": {
      "needs_background": "light"
     },
     "output_type": "display_data"
    },
    {
     "data": {
      "image/png": "[encoded data removed]",
      "text/plain": [
       "<Figure size 432x288 with 2 Axes>"
      ]
     },
     "metadata": {
      "needs_background": "light"
     },
     "output_type": "display_data"
    }
   ],
   "source": [
    "MODELS = [\n",
    "    RandomForestClassifier(),\n",
    "    DecisionTreeClassifier(),\n",
    "    KNeighborsClassifier(n_neighbors=3),\n",
    "    LogisticRegression(random_state=0),\n",
    "    svm.SVC(),\n",
    "    BalancedBaggingClassifier(base_estimator=DecisionTreeClassifier(),\n",
    "                              sampling_strategy='auto',\n",
    "                              replacement=False, \n",
    "                              random_state=0),\n",
    "    \n",
    "    BalancedBaggingClassifier(base_estimator=RandomForestClassifier(),\n",
    "                             sampling_strategy='auto',\n",
    "                             replacement=False, \n",
    "                             random_state=0)\n",
    "]\n",
    "\n",
    "MODEL_NAMES = [\n",
    "    'RANDOM FOREST CLASSIFIER',\n",
    "    'DECISION TREE CLASSIFIER',\n",
    "    'KNN',\n",
    "    'LOGISTIC REGRESSION',\n",
    "    'SVM',\n",
    "    'BALANCED BAGGIN CLASSIFIER (DECISION TREE as BASE)',\n",
    "    'BALANCED BAGGIN CLASSIFIER (RANDOM FOREST as BASE)'\n",
    "    \n",
    "]\n",
    "\n",
    "MODEL_LOGS = run_all_models(MODELS, MODEL_NAMES)"
   ]
  },
  {
   "cell_type": "code",
   "execution_count": 22,
   "id": "38a6727a",
   "metadata": {},
   "outputs": [
    {
     "data": {
      "text/plain": [
       "{'all_valid_acc': {'RANDOM FOREST CLASSIFIER': 0.8813559322033898,\n",
       "  'DECISION TREE CLASSIFIER': 0.8033898305084746,\n",
       "  'KNN': 0.7728813559322034,\n",
       "  'LOGISTIC REGRESSION': 0.7016949152542373,\n",
       "  'SVM': 0.8711864406779661,\n",
       "  'BALANCED BAGGIN CLASSIFIER (DECISION TREE as BASE)': 0.8813559322033898,\n",
       "  'BALANCED BAGGIN CLASSIFIER (RANDOM FOREST as BASE)': 0.888135593220339},\n",
       " 'all_valid_recall': {'RANDOM FOREST CLASSIFIER': 0.835820895522388,\n",
       "  'DECISION TREE CLASSIFIER': 0.753731343283582,\n",
       "  'KNN': 0.5970149253731343,\n",
       "  'LOGISTIC REGRESSION': 0.5671641791044776,\n",
       "  'SVM': 0.7686567164179104,\n",
       "  'BALANCED BAGGIN CLASSIFIER (DECISION TREE as BASE)': 0.8134328358208955,\n",
       "  'BALANCED BAGGIN CLASSIFIER (RANDOM FOREST as BASE)': 0.8805970149253731},\n",
       " 'all_valid_precision': {'RANDOM FOREST CLASSIFIER': 0.896,\n",
       "  'DECISION TREE CLASSIFIER': 0.8015873015873016,\n",
       "  'KNN': 0.8602150537634409,\n",
       "  'LOGISTIC REGRESSION': 0.7169811320754716,\n",
       "  'SVM': 0.9363636363636364,\n",
       "  'BALANCED BAGGIN CLASSIFIER (DECISION TREE as BASE)': 0.9159663865546218,\n",
       "  'BALANCED BAGGIN CLASSIFIER (RANDOM FOREST as BASE)': 0.8740740740740741},\n",
       " 'all_test_acc': {'RANDOM FOREST CLASSIFIER': 0.9090909090909091,\n",
       "  'DECISION TREE CLASSIFIER': 0.8181818181818182,\n",
       "  'KNN': 0.8787878787878788,\n",
       "  'LOGISTIC REGRESSION': 0.696969696969697,\n",
       "  'SVM': 0.9090909090909091,\n",
       "  'BALANCED BAGGIN CLASSIFIER (DECISION TREE as BASE)': 0.8787878787878788,\n",
       "  'BALANCED BAGGIN CLASSIFIER (RANDOM FOREST as BASE)': 0.9090909090909091},\n",
       " 'all_test_recall': {'RANDOM FOREST CLASSIFIER': 0.8666666666666667,\n",
       "  'DECISION TREE CLASSIFIER': 0.8666666666666667,\n",
       "  'KNN': 0.9333333333333333,\n",
       "  'LOGISTIC REGRESSION': 0.8,\n",
       "  'SVM': 0.8666666666666667,\n",
       "  'BALANCED BAGGIN CLASSIFIER (DECISION TREE as BASE)': 0.8666666666666667,\n",
       "  'BALANCED BAGGIN CLASSIFIER (RANDOM FOREST as BASE)': 0.8666666666666667},\n",
       " 'all_test_precision': {'RANDOM FOREST CLASSIFIER': 0.9285714285714286,\n",
       "  'DECISION TREE CLASSIFIER': 0.7647058823529411,\n",
       "  'KNN': 0.8235294117647058,\n",
       "  'LOGISTIC REGRESSION': 0.631578947368421,\n",
       "  'SVM': 0.9285714285714286,\n",
       "  'BALANCED BAGGIN CLASSIFIER (DECISION TREE as BASE)': 0.8666666666666667,\n",
       "  'BALANCED BAGGIN CLASSIFIER (RANDOM FOREST as BASE)': 0.9285714285714286}}"
      ]
     },
     "execution_count": 22,
     "metadata": {},
     "output_type": "execute_result"
    }
   ],
   "source": [
    "MODEL_LOGS"
   ]
  },
  {
   "cell_type": "code",
   "execution_count": null,
   "id": "6a8e6a0d",
   "metadata": {},
   "outputs": [],
   "source": []
  }
 ],
 "metadata": {
  "kernelspec": {
   "display_name": "Python 3",
   "language": "python",
   "name": "python3"
  },
  "language_info": {
   "codemirror_mode": {
    "name": "ipython",
    "version": 3
   },
   "file_extension": ".py",
   "mimetype": "text/x-python",
   "name": "python",
   "nbconvert_exporter": "python",
   "pygments_lexer": "ipython3",
   "version": "3.9.7"
  }
 },
 "nbformat": 4,
 "nbformat_minor": 5
}
